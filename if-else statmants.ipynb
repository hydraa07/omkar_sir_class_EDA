{
 "cells": [
  {
   "cell_type": "code",
   "execution_count": 18,
   "id": "dd85fb0c",
   "metadata": {},
   "outputs": [
    {
     "name": "stdout",
     "output_type": "stream",
     "text": [
      "Enter a year : 2030\n",
      "this year 2030 is not leap year\n"
     ]
    }
   ],
   "source": [
    "# WAP to accept any year from the user and check the wether is leap year or not\n",
    "\n",
    "\n",
    "year = eval(input(\"Enter a year : \"))\n",
    "if (year%4==0 and year%100!=0) or (year%400) ==0 :\n",
    "    print(f\"this year {year} is leap year\")\n",
    "else:\n",
    "    print(f\"this year {year} is not leap year\")"
   ]
  },
  {
   "cell_type": "markdown",
   "id": "f0f48816",
   "metadata": {},
   "source": [
    "# if-else condition in one line"
   ]
  },
  {
   "cell_type": "code",
   "execution_count": null,
   "id": "bb4b2953",
   "metadata": {},
   "outputs": [],
   "source": []
  },
  {
   "cell_type": "code",
   "execution_count": null,
   "id": "b9744134",
   "metadata": {},
   "outputs": [],
   "source": []
  },
  {
   "cell_type": "code",
   "execution_count": null,
   "id": "1efd7aa3",
   "metadata": {},
   "outputs": [],
   "source": []
  },
  {
   "cell_type": "code",
   "execution_count": null,
   "id": "494559d1",
   "metadata": {},
   "outputs": [],
   "source": []
  },
  {
   "cell_type": "code",
   "execution_count": null,
   "id": "d729dd6f",
   "metadata": {},
   "outputs": [],
   "source": []
  },
  {
   "cell_type": "code",
   "execution_count": null,
   "id": "4aa8f478",
   "metadata": {},
   "outputs": [],
   "source": []
  },
  {
   "cell_type": "code",
   "execution_count": null,
   "id": "3d077b3d",
   "metadata": {},
   "outputs": [],
   "source": []
  }
 ],
 "metadata": {
  "kernelspec": {
   "display_name": "Python 3 (ipykernel)",
   "language": "python",
   "name": "python3"
  },
  "language_info": {
   "codemirror_mode": {
    "name": "ipython",
    "version": 3
   },
   "file_extension": ".py",
   "mimetype": "text/x-python",
   "name": "python",
   "nbconvert_exporter": "python",
   "pygments_lexer": "ipython3",
   "version": "3.11.5"
  }
 },
 "nbformat": 4,
 "nbformat_minor": 5
}
