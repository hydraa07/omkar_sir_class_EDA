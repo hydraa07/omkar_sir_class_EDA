{
 "cells": [
  {
   "cell_type": "markdown",
   "id": "93670518",
   "metadata": {},
   "source": [
    "# positional arguments"
   ]
  },
  {
   "cell_type": "markdown",
   "id": "726e8420",
   "metadata": {},
   "source": [
    "# jo position ke hisab se chalte hai \n",
    "# first arg. diya to receved bhi first perameter me hoga\n",
    "# like seqencally\n",
    "\n",
    "# jese abhi tak function banate aa rahe hai oo sb positional argument per hi bane hai"
   ]
  },
  {
   "cell_type": "code",
   "execution_count": 1,
   "id": "adbe1163",
   "metadata": {},
   "outputs": [
    {
     "name": "stdout",
     "output_type": "stream",
     "text": [
      "Enter the first num5\n",
      "Enter the second num5\n",
      "10\n"
     ]
    }
   ],
   "source": [
    "#########################note note note note################################\n",
    "# pahle keyword argument de diya to sabhi bad vale argument bhi keyword hi hona chahiye\n",
    "# pahle positional arg. de diya to bad me keyword argument de sakte hai \n",
    "# positional ke bad keyword de sakte hai ,, keyword ke bad positional nhi de skate\n",
    "\n",
    "\n",
    "def add(a,b): # this is a positional arguments\n",
    "    print(a+b)\n",
    "a = eval(input(\"Enter the first num\"))\n",
    "b = eval(input(\"Enter the second num\"))\n",
    "add(a,b)"
   ]
  },
  {
   "cell_type": "markdown",
   "id": "2970a8bd",
   "metadata": {},
   "source": [
    "# kayword arguments "
   ]
  },
  {
   "cell_type": "code",
   "execution_count": 3,
   "id": "50a9c9aa",
   "metadata": {},
   "outputs": [
    {
     "name": "stdout",
     "output_type": "stream",
     "text": [
      "name is = bread and its price is = 55\n",
      "name is = butter and its price is = 3652\n"
     ]
    }
   ],
   "source": [
    "def grocery(name , price):\n",
    "    print(f\"name is = {name} and its price is = {price}\")\n",
    "\n",
    "grocery(name = \"bread\", price=55)\n",
    "grocery(price=3652 , name = \"butter\" ) # this is a keyword arguments"
   ]
  },
  {
   "cell_type": "markdown",
   "id": "af30edb5",
   "metadata": {},
   "source": [
    "# default arguments"
   ]
  },
  {
   "cell_type": "code",
   "execution_count": 6,
   "id": "d9b1972b",
   "metadata": {},
   "outputs": [
    {
     "name": "stdout",
     "output_type": "stream",
     "text": [
      "Enter the number5\n",
      "105\n"
     ]
    }
   ],
   "source": [
    "def add(a , b = 100): # b ko humne default bana diya hai \n",
    "    c = a+b\n",
    "    return c\n",
    "\n",
    "x = eval(input(\"Enter the number\"))\n",
    " \n",
    "print(add(x)) # 1 argument to already vahi pr hai "
   ]
  },
  {
   "cell_type": "markdown",
   "id": "5f0507a8",
   "metadata": {},
   "source": [
    "# variable length arguments"
   ]
  },
  {
   "cell_type": "code",
   "execution_count": 10,
   "id": "c4aa99a4",
   "metadata": {},
   "outputs": [
    {
     "name": "stdout",
     "output_type": "stream",
     "text": [
      "30\n",
      "60\n",
      "100\n",
      "150\n",
      "210\n"
     ]
    }
   ],
   "source": [
    "# def add(a,b):\n",
    "#     print(a+b)\n",
    "    \n",
    "# def add(a,b,c):\n",
    "#     print(a+b+c)\n",
    "    \n",
    "# def add(a,b,c,d):\n",
    "#     print(a+b+c+d)\n",
    "    \n",
    "# a =20\n",
    "# b = 30\n",
    "# add(a,b)   # this fun. call no working at that time bcz last vala a\n",
    "\n",
    "def add(*a): # it become a tuple then work for the function\n",
    "    sum =0\n",
    "    for x in a:\n",
    "        sum += x\n",
    "    return sum\n",
    "\n",
    "\n",
    "a,b,c,d,e,f = 10,20,30,40,50,60\n",
    "\n",
    "print(add(a,b))\n",
    "print(add(a,b,c))\n",
    "print(add(a,b,c,d))\n",
    "print(add(a,b,c,d,e))\n",
    "print(add(a,b,c,d,e,f))"
   ]
  },
  {
   "cell_type": "code",
   "execution_count": null,
   "id": "53e10cf7",
   "metadata": {},
   "outputs": [],
   "source": []
  }
 ],
 "metadata": {
  "kernelspec": {
   "display_name": "Python 3 (ipykernel)",
   "language": "python",
   "name": "python3"
  },
  "language_info": {
   "codemirror_mode": {
    "name": "ipython",
    "version": 3
   },
   "file_extension": ".py",
   "mimetype": "text/x-python",
   "name": "python",
   "nbconvert_exporter": "python",
   "pygments_lexer": "ipython3",
   "version": "3.11.5"
  }
 },
 "nbformat": 4,
 "nbformat_minor": 5
}
