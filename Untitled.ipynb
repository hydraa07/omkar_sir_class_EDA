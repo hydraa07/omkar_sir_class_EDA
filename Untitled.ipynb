{
 "cells": [
  {
   "cell_type": "markdown",
   "id": "ee9980b1",
   "metadata": {},
   "source": [
    "# map() function"
   ]
  },
  {
   "cell_type": "code",
   "execution_count": 2,
   "id": "e22f590b",
   "metadata": {},
   "outputs": [
    {
     "name": "stdout",
     "output_type": "stream",
     "text": [
      "<map object at 0x0000025C147CD7B0>\n",
      "[1, 4, 9, 16, 25, 36, 49, 64, 81]\n"
     ]
    }
   ],
   "source": [
    "def squre(n):\n",
    "    return n**2\n",
    "\n",
    "my_list = [1,2,3,4,5,6,7,8,9]\n",
    "result = map(squre,my_list) # my_list ki 1-1 value ke squre fun. me bhejega or map object me return kar fega\n",
    "print(result) # it is show map object\n",
    "print(list(result)) #show the all of the squre"
   ]
  },
  {
   "cell_type": "code",
   "execution_count": 3,
   "id": "3c0c9d10",
   "metadata": {},
   "outputs": [
    {
     "name": "stdout",
     "output_type": "stream",
     "text": [
      "[1, 4, 9, 16, 25, 36, 49, 64, 81]\n"
     ]
    }
   ],
   "source": [
    "def squre(n):\n",
    "    return n**2\n",
    "my_list = [1,2,3,4,5,6,7,8,9]\n",
    "print(list(map(squre,my_list)))"
   ]
  },
  {
   "cell_type": "code",
   "execution_count": null,
   "id": "1b6db5a3",
   "metadata": {},
   "outputs": [],
   "source": []
  },
  {
   "cell_type": "code",
   "execution_count": null,
   "id": "440e93a8",
   "metadata": {},
   "outputs": [],
   "source": []
  },
  {
   "cell_type": "code",
   "execution_count": null,
   "id": "b99f3a6f",
   "metadata": {},
   "outputs": [],
   "source": []
  },
  {
   "cell_type": "code",
   "execution_count": null,
   "id": "4041ee06",
   "metadata": {},
   "outputs": [],
   "source": []
  },
  {
   "cell_type": "code",
   "execution_count": null,
   "id": "2ef75f8d",
   "metadata": {},
   "outputs": [],
   "source": []
  },
  {
   "cell_type": "code",
   "execution_count": 1,
   "id": "feb7b2d2",
   "metadata": {},
   "outputs": [
    {
     "name": "stdout",
     "output_type": "stream",
     "text": [
      "enter the a value10\n",
      "enter the b value20\n",
      "30\n"
     ]
    }
   ],
   "source": [
    "def add():\n",
    "    a = eval(input(\"enter the a value\"))\n",
    "    b = eval(input(\"enter the b value\"))\n",
    "    c = a+b\n",
    "    print(c)\n",
    "    \n",
    "add()"
   ]
  },
  {
   "cell_type": "code",
   "execution_count": 3,
   "id": "f24ef819",
   "metadata": {},
   "outputs": [
    {
     "name": "stdout",
     "output_type": "stream",
     "text": [
      "enter the a value10\n",
      "enter the b value30\n",
      "enter the a value60\n",
      "enter the b value40\n",
      "100\n",
      "40\n"
     ]
    }
   ],
   "source": [
    "def add():\n",
    "    a = eval(input(\"enter the a value\"))\n",
    "    b = eval(input(\"enter the b value\"))\n",
    "    c = a+b\n",
    "    return c\n",
    "    \n",
    "a = add()\n",
    "print(add())\n",
    "print(a)"
   ]
  },
  {
   "cell_type": "code",
   "execution_count": 4,
   "id": "36583286",
   "metadata": {},
   "outputs": [
    {
     "name": "stdout",
     "output_type": "stream",
     "text": [
      "enter the a value20\n",
      "enter the b value20\n",
      "40\n"
     ]
    }
   ],
   "source": [
    "def add(c, d):\n",
    "    \n",
    "    c = c+d\n",
    "    return c\n",
    "    \n",
    "a = eval(input(\"enter the a value\"))\n",
    "b = eval(input(\"enter the b value\"))\n",
    "sum = add(a,b)\n",
    "print(sum)"
   ]
  },
  {
   "cell_type": "code",
   "execution_count": 5,
   "id": "0c98da39",
   "metadata": {},
   "outputs": [
    {
     "name": "stdout",
     "output_type": "stream",
     "text": [
      "enter the a value60\n",
      "enter the b value0\n",
      "60\n"
     ]
    }
   ],
   "source": [
    "def add(c, d):\n",
    "    \n",
    "    c = c+d\n",
    "    print(c)\n",
    "    \n",
    "a = eval(input(\"enter the a value\"))\n",
    "b = eval(input(\"enter the b value\"))\n",
    "add(a,b)\n"
   ]
  },
  {
   "cell_type": "code",
   "execution_count": 25,
   "id": "bc376875",
   "metadata": {},
   "outputs": [
    {
     "name": "stdout",
     "output_type": "stream",
     "text": [
      "2\n",
      "4\n",
      "6\n",
      "8\n",
      "10\n",
      "12\n",
      "14\n",
      "16\n",
      "18\n"
     ]
    }
   ],
   "source": [
    "def summ(a,b):\n",
    "    if b==10:\n",
    "        return\n",
    "    print(a*b)\n",
    "    return summ(a,b+1)\n",
    "summ(2,1)"
   ]
  },
  {
   "cell_type": "code",
   "execution_count": 22,
   "id": "9e322f22",
   "metadata": {},
   "outputs": [
    {
     "name": "stdout",
     "output_type": "stream",
     "text": [
      "Enter the Number: \n",
      "5\n",
      "\n",
      "Table of 5 is:\n",
      "5 * 1 = 5\n",
      "5 * 2 = 10\n",
      "5 * 3 = 15\n",
      "5 * 4 = 20\n",
      "5 * 5 = 25\n",
      "5 * 6 = 30\n",
      "5 * 7 = 35\n",
      "5 * 8 = 40\n",
      "5 * 9 = 45\n",
      "5 * 10 = 50\n"
     ]
    }
   ],
   "source": [
    "def summ(n, i):\n",
    "    if(i>10):\n",
    "        return\n",
    "    print(n, \"*\", i, \"=\", n*i)\n",
    "    return summ(n, i+1)\n",
    "\n",
    "print(\"Enter the Number: \")\n",
    "num = int(input())\n",
    "print(\"\\nTable of\", num, \"is:\")\n",
    "summ(num, 1)"
   ]
  },
  {
   "cell_type": "code",
   "execution_count": null,
   "id": "d01c40b5",
   "metadata": {},
   "outputs": [],
   "source": []
  }
 ],
 "metadata": {
  "kernelspec": {
   "display_name": "Python 3 (ipykernel)",
   "language": "python",
   "name": "python3"
  },
  "language_info": {
   "codemirror_mode": {
    "name": "ipython",
    "version": 3
   },
   "file_extension": ".py",
   "mimetype": "text/x-python",
   "name": "python",
   "nbconvert_exporter": "python",
   "pygments_lexer": "ipython3",
   "version": "3.11.5"
  }
 },
 "nbformat": 4,
 "nbformat_minor": 5
}
