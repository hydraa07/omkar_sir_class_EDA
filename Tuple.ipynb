{
 "cells": [
  {
   "cell_type": "markdown",
   "id": "786792ab",
   "metadata": {},
   "source": [
    "# tuple not changable \n",
    "# that is tuple is immutable"
   ]
  },
  {
   "cell_type": "code",
   "execution_count": 2,
   "id": "ebb2c03e",
   "metadata": {},
   "outputs": [
    {
     "name": "stdout",
     "output_type": "stream",
     "text": [
      "(2, 1, 4, 6, 3, 89)\n",
      "2\n",
      "1\n",
      "4\n",
      "6\n",
      "3\n",
      "89\n"
     ]
    }
   ],
   "source": [
    "\n",
    "tuple = (2,1,4,6,3,89)\n",
    "print(tuple)\n",
    "for i in tuple:\n",
    "    print(i)"
   ]
  },
  {
   "cell_type": "code",
   "execution_count": 5,
   "id": "70609372",
   "metadata": {},
   "outputs": [
    {
     "name": "stdout",
     "output_type": "stream",
     "text": [
      "(1, 2, 3, 4)\n",
      "1\n",
      "2\n",
      "3\n",
      "4\n"
     ]
    }
   ],
   "source": [
    "# packing\n",
    "a = 1,2,3,4 # yese me pyhton tuple me packing kar deti hai\n",
    "print(a)\n",
    "\n",
    "x,y,z,b = a;   # tuple ko yese assinment kr sakte hai\n",
    "print(x)\n",
    "print(y)\n",
    "print(z)\n",
    "print(b)"
   ]
  },
  {
   "cell_type": "code",
   "execution_count": 9,
   "id": "95b4b4a7",
   "metadata": {},
   "outputs": [
    {
     "name": "stdout",
     "output_type": "stream",
     "text": [
      "<class 'int'>\n"
     ]
    }
   ],
   "source": [
    "a,b,c = 1,2,3\n",
    "print(type(a))"
   ]
  },
  {
   "cell_type": "code",
   "execution_count": 11,
   "id": "fa214598",
   "metadata": {},
   "outputs": [
    {
     "name": "stdout",
     "output_type": "stream",
     "text": [
      "(1, 2, 3, 4, 5, 6)\n"
     ]
    },
    {
     "ename": "TypeError",
     "evalue": "'tuple' object does not support item assignment",
     "output_type": "error",
     "traceback": [
      "\u001b[1;31m---------------------------------------------------------------------------\u001b[0m",
      "\u001b[1;31mTypeError\u001b[0m                                 Traceback (most recent call last)",
      "Cell \u001b[1;32mIn[11], line 3\u001b[0m\n\u001b[0;32m      1\u001b[0m a \u001b[38;5;241m=\u001b[39m \u001b[38;5;241m1\u001b[39m,\u001b[38;5;241m2\u001b[39m,\u001b[38;5;241m3\u001b[39m,\u001b[38;5;241m4\u001b[39m,\u001b[38;5;241m5\u001b[39m,\u001b[38;5;241m6\u001b[39m\n\u001b[0;32m      2\u001b[0m \u001b[38;5;28mprint\u001b[39m(a)\n\u001b[1;32m----> 3\u001b[0m a[\u001b[38;5;241m2\u001b[39m] \u001b[38;5;241m=\u001b[39m \u001b[38;5;241m500\u001b[39m\n",
      "\u001b[1;31mTypeError\u001b[0m: 'tuple' object does not support item assignment"
     ]
    }
   ],
   "source": [
    "a = 1,2,3,4,5,6\n",
    "print(a)\n",
    "a[2] = 500  # not changable "
   ]
  },
  {
   "cell_type": "code",
   "execution_count": 12,
   "id": "25c8ddb3",
   "metadata": {},
   "outputs": [
    {
     "name": "stdout",
     "output_type": "stream",
     "text": [
      "True\n",
      "False\n",
      "True\n",
      "False\n"
     ]
    }
   ],
   "source": [
    "# any() function\n",
    "\n",
    "s = { 1, 1, 3}\n",
    "print(any(s))\n",
    "\n",
    "# All elements of set are False\n",
    "s = { 0, 0, False}\n",
    "print(any(s))\n",
    "\n",
    "# Some elements of set are True while others are False\n",
    "s = { 1, 2, 0, 8, False}\n",
    "print(any(s))\n",
    "\n",
    "# Empty set\n",
    "s = {}\n",
    "print(any(s))\n"
   ]
  },
  {
   "cell_type": "code",
   "execution_count": 13,
   "id": "99ba230d",
   "metadata": {},
   "outputs": [
    {
     "name": "stdout",
     "output_type": "stream",
     "text": [
      "True\n",
      "False\n",
      "False\n"
     ]
    }
   ],
   "source": [
    "# All elements of list are True\n",
    "l = [4, 5, 1]\n",
    "print(any(l))\n",
    "\n",
    "# All elements of list are False\n",
    "l = [0, 0, False]\n",
    "print(any(l))\n",
    "\n",
    "# Some elements of list are\n",
    "# True while others are False\n",
    "# l = [1, 0, 6, 7, False]\n",
    "# print(any(l))\n",
    "\n",
    "# Empty list\n",
    "l = []\n",
    "print(any(l))\n"
   ]
  },
  {
   "cell_type": "markdown",
   "id": "6eca3051",
   "metadata": {},
   "source": [
    "# all() function in tuple"
   ]
  },
  {
   "cell_type": "code",
   "execution_count": 14,
   "id": "044ae988",
   "metadata": {},
   "outputs": [
    {
     "name": "stdout",
     "output_type": "stream",
     "text": [
      "True\n",
      "False\n",
      "False\n",
      "True\n"
     ]
    }
   ],
   "source": [
    "\n",
    "# Python program to illustrate all()\n",
    "# all values are True\n",
    "list1 = [1, 2, 3, 4]\n",
    "print(all(list1))\n",
    "\n",
    "# one value is False\n",
    "list2 = [0, 2, 4]\n",
    "print(all(list2))\n",
    "\n",
    "# all values are False\n",
    "list3 = [0, False]\n",
    "print(all(list3))\n",
    "\n",
    "# empty list\n",
    "list4 = []\n",
    "print(all(list4))"
   ]
  },
  {
   "cell_type": "code",
   "execution_count": null,
   "id": "79e67219",
   "metadata": {},
   "outputs": [],
   "source": []
  },
  {
   "cell_type": "code",
   "execution_count": null,
   "id": "dccfd3c3",
   "metadata": {},
   "outputs": [],
   "source": []
  }
 ],
 "metadata": {
  "kernelspec": {
   "display_name": "Python 3 (ipykernel)",
   "language": "python",
   "name": "python3"
  },
  "language_info": {
   "codemirror_mode": {
    "name": "ipython",
    "version": 3
   },
   "file_extension": ".py",
   "mimetype": "text/x-python",
   "name": "python",
   "nbconvert_exporter": "python",
   "pygments_lexer": "ipython3",
   "version": "3.11.5"
  }
 },
 "nbformat": 4,
 "nbformat_minor": 5
}
