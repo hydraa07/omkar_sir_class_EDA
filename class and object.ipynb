{
 "cells": [
  {
   "cell_type": "code",
   "execution_count": 2,
   "id": "2fa1786a",
   "metadata": {},
   "outputs": [
    {
     "name": "stdout",
     "output_type": "stream",
     "text": [
      "object created......\n"
     ]
    }
   ],
   "source": [
    "class emp:\n",
    "    def __init__(self):\n",
    "        print(\"object created......\")\n",
    "        \n",
    "obj = emp()      # obj ke banane pr __init__() call hot ahi   # yeh cunstructer ki tarh kam karta hai"
   ]
  },
  {
   "cell_type": "code",
   "execution_count": 3,
   "id": "d13cf42f",
   "metadata": {},
   "outputs": [
    {
     "name": "stdout",
     "output_type": "stream",
     "text": [
      "object created......\n",
      "object created......\n",
      "object created......\n"
     ]
    }
   ],
   "source": [
    "# jitne object banaoge __init__() utni bar call hoga\n",
    "class emp:\n",
    "    def __init__(self):\n",
    "        print(\"object created......\")\n",
    "        \n",
    "obj1 = emp()\n",
    "obj2 = emp()\n",
    "obj3 = emp()"
   ]
  },
  {
   "cell_type": "code",
   "execution_count": 6,
   "id": "ccf89fb3",
   "metadata": {},
   "outputs": [
    {
     "name": "stdout",
     "output_type": "stream",
     "text": [
      "25 Ravindra 2563256 659832147\n"
     ]
    }
   ],
   "source": [
    "class emp:\n",
    "    def __init__(x):   # we can take any name of argumant instead of self \n",
    "        x.age = 25\n",
    "        x.name = \"Ravindra\"\n",
    "        x.salary = 2563256 \n",
    "        \n",
    "obj = emp()\n",
    "\n",
    "obj.number = \"659832147\"\n",
    "\n",
    "print(obj.age, obj.name, obj.salary , obj.number) #obj banane pr obj ka refrence x me jayega then function se bhar aake obj me jayega"
   ]
  },
  {
   "cell_type": "code",
   "execution_count": 27,
   "id": "334e490e",
   "metadata": {},
   "outputs": [
    {
     "name": "stdout",
     "output_type": "stream",
     "text": [
      "25 Ravindra 50000000\n"
     ]
    }
   ],
   "source": [
    "class emp:\n",
    "    def __init__(self ,x , y , z):   # we can take any name of argumant instead of self \n",
    "        self.age = x\n",
    "        self.name = y\n",
    "        self.salary = z\n",
    "        \n",
    "obj = emp(25,'Ravindra',50000000)\n",
    "print(obj.age,obj.name,obj.salary)"
   ]
  },
  {
   "cell_type": "code",
   "execution_count": 24,
   "id": "8e2b7601",
   "metadata": {},
   "outputs": [
    {
     "name": "stdout",
     "output_type": "stream",
     "text": [
      "enter the radius3\n",
      "18.84955592153876\n",
      "28.274333882308138\n"
     ]
    }
   ],
   "source": [
    "# wAP calculate the area and pridhi of circle\n",
    "\n",
    "from math import *\n",
    "\n",
    "class circle:\n",
    "    def __init__(self,radius):\n",
    "        self.radius = radius\n",
    "        \n",
    "    def paridhi(self):\n",
    "        p = 2*pi*self.radius\n",
    "        print(p)\n",
    "        \n",
    "    def area(self):\n",
    "        a = pi*(self.radius**2)\n",
    "        print(a)\n",
    "        \n",
    "r=int(input(\"enter the radius\"))\n",
    "obj=circle(r)\n",
    "obj.paridhi()\n",
    "obj.area()"
   ]
  },
  {
   "cell_type": "code",
   "execution_count": null,
   "id": "bbac542c",
   "metadata": {},
   "outputs": [],
   "source": []
  },
  {
   "cell_type": "code",
   "execution_count": 2,
   "id": "ae851d72",
   "metadata": {},
   "outputs": [
    {
     "name": "stdout",
     "output_type": "stream",
     "text": [
      "ravindra 15 1111 658932147\n"
     ]
    }
   ],
   "source": [
    "# normal student class\n",
    "class student:\n",
    "    def __init__(self, name , age , roll , number):\n",
    "        self.name = name\n",
    "        self.age = age\n",
    "        self.roll_num = roll\n",
    "        self.num = number\n",
    "        \n",
    "        \n",
    "obj1 = student(\"ravindra\",15,1111,\"658932147\")\n",
    "print(obj1.name,obj1.age,obj1.roll_num,obj1.num,)"
   ]
  },
  {
   "cell_type": "code",
   "execution_count": 4,
   "id": "00f0dbe7",
   "metadata": {},
   "outputs": [
    {
     "name": "stdout",
     "output_type": "stream",
     "text": [
      "ravindra 15 1111 658932147\n"
     ]
    }
   ],
   "source": [
    "# instance variable and instance method \n",
    "\n",
    "class student:\n",
    "    def __init__(self, name , age , roll , number):\n",
    "        self.name = name\n",
    "        self.age = age\n",
    "        self.roll_num = roll\n",
    "        self.num = number\n",
    "        \n",
    "    def show(r): # yha mene self ki jagh r de diya hai\n",
    "        print(obj1.name,obj1.age,obj1.roll_num,obj1.num,)\n",
    "        \n",
    "obj1 = student(\"ravindra\",15,1111,\"658932147\")\n",
    "obj1.show()"
   ]
  },
  {
   "cell_type": "code",
   "execution_count": 5,
   "id": "d78e1fd8",
   "metadata": {},
   "outputs": [],
   "source": [
    "# 2. Write a Program to create a valid empty class with the name Students, with no properties.\n",
    "class student():\n",
    "    pass               # class body empty rakhna ho to \"pass\" likh do\n",
    "obj = student()"
   ]
  },
  {
   "cell_type": "code",
   "execution_count": 13,
   "id": "ebd8a27d",
   "metadata": {},
   "outputs": [
    {
     "name": "stdout",
     "output_type": "stream",
     "text": [
      "input the number16\n",
      "input the number13\n",
      "9\n"
     ]
    }
   ],
   "source": [
    "# add 2 numbers\n",
    "class add:\n",
    "    def __init__(self,a,b):\n",
    "        self.num1 =a;\n",
    "        self.num2 =b\n",
    "        \n",
    "    def ans(self):\n",
    "        result = self.num1 + self.num2\n",
    "        print(result)\n",
    "        \n",
    "x = eval(input(\"input the number1 = \"))\n",
    "y = eval(input(\"input the number2 = \"))\n",
    "obj = add(x,y)\n",
    "obj.ans()"
   ]
  },
  {
   "cell_type": "code",
   "execution_count": 19,
   "id": "de865b95",
   "metadata": {},
   "outputs": [
    {
     "name": "stdout",
     "output_type": "stream",
     "text": [
      "enter the f 100\n",
      "37.0\n"
     ]
    }
   ],
   "source": [
    "# 6. Write a C program to convert centigrade into Fahrenheit. Formula: C= (F-32)/1.8.\n",
    "\n",
    "class centigrade:\n",
    "    \n",
    "    def __init__(self):\n",
    "        self.f = eval(input(\"enter the f \"))\n",
    "        self.convert(self.f)\n",
    "        \n",
    "    def convert(self,f):\n",
    "        c = (self.f-32)//1.8\n",
    "        self.printt(c)\n",
    "        \n",
    "    def printt(self,c):\n",
    "        print(c)\n",
    "        \n",
    "obj = centigrade();    # we use nested function\n",
    "# obj.conver()"
   ]
  },
  {
   "cell_type": "code",
   "execution_count": 32,
   "id": "a4e709b7",
   "metadata": {},
   "outputs": [
    {
     "name": "stdout",
     "output_type": "stream",
     "text": [
      "enter p10000\n",
      "enter t2\n",
      "enter r2\n",
      "400\n"
     ]
    }
   ],
   "source": [
    "# 7. Write a C program to calculate simple interest\n",
    "class intrest:\n",
    "    \n",
    "    def __init__(self,p,t,r):\n",
    "        self.p = p\n",
    "        self.t = t\n",
    "        self.r = r\n",
    "        \n",
    "    def byaj(self,p,t,r):\n",
    "        byajj = (p*t*r)//100\n",
    "        self.printt(byajj)\n",
    "        \n",
    "    def printt(self,a):\n",
    "        print(a)\n",
    "        \n",
    "        \n",
    "p = eval(input(\"enter p\"))\n",
    "t = eval(input(\"enter t\"))\n",
    "r = eval(input(\"enter r\"))\n",
    "obj=intrest(p,t,r)\n",
    "obj.byaj(obj.p,obj.t,obj.r)"
   ]
  },
  {
   "cell_type": "code",
   "execution_count": 35,
   "id": "bf230b6c",
   "metadata": {},
   "outputs": [
    {
     "name": "stdout",
     "output_type": "stream",
     "text": [
      "enter the number 365\n",
      "3 Hundreds 6 tens 5 units\n"
     ]
    }
   ],
   "source": [
    "# 8.\tWrite a C program to read in a three digit number produce following output (assuming that the input is 347)\n",
    "#     3 hundreds, 4 tens, 7 units\n",
    "\n",
    "class number:\n",
    "    def __init__(self,num):\n",
    "        self.num = num\n",
    "        self.calculate(self.num)\n",
    "        \n",
    "    def calculate(self,num):\n",
    "        a = num%10\n",
    "        num = num//10\n",
    "        \n",
    "        b = num%10\n",
    "        num = num//10\n",
    "        \n",
    "        c = num%10\n",
    "        num = num//10\n",
    "        \n",
    "        print(f\"{c} Hundreds {b} tens {a} units\")\n",
    "        \n",
    "num = eval(input(\"enter the number \"))\n",
    "obj = number(num)"
   ]
  },
  {
   "cell_type": "code",
   "execution_count": 10,
   "id": "9db726e5",
   "metadata": {},
   "outputs": [
    {
     "name": "stdout",
     "output_type": "stream",
     "text": [
      "........................\n",
      "enter = 8\n",
      "8 * 1 = 8\n",
      "8 * 2 = 16\n",
      "8 * 3 = 24\n",
      "8 * 4 = 32\n",
      "8 * 5 = 40\n",
      "8 * 6 = 48\n",
      "8 * 7 = 56\n",
      "8 * 8 = 64\n",
      "8 * 9 = 72\n",
      "8 * 10 = 80\n"
     ]
    }
   ],
   "source": [
    "# print the table \n",
    "class tables:\n",
    "    def __init__(self,num):\n",
    "        self.num = num\n",
    "        self.table(self.num)\n",
    "        \n",
    "    def table(self, num):\n",
    "        for i in range(1,11):\n",
    "            print(f\"{num} * {i} = {num*i}\")\n",
    "            \n",
    "print(\"........................\")\n",
    "n = eval(input(\"enter = \"))\n",
    "obj = tables(n)"
   ]
  },
  {
   "cell_type": "code",
   "execution_count": 12,
   "id": "f76bdef8",
   "metadata": {},
   "outputs": [
    {
     "data": {
      "text/plain": [
       "(20, 10)"
      ]
     },
     "execution_count": 12,
     "metadata": {},
     "output_type": "execute_result"
    }
   ],
   "source": [
    "a = 10\n",
    "b = 20\n",
    "a,b =b,a\n",
    "a,b"
   ]
  },
  {
   "cell_type": "code",
   "execution_count": null,
   "id": "cbde42b6",
   "metadata": {},
   "outputs": [],
   "source": []
  },
  {
   "cell_type": "code",
   "execution_count": null,
   "id": "790150b4",
   "metadata": {},
   "outputs": [],
   "source": []
  },
  {
   "cell_type": "code",
   "execution_count": null,
   "id": "a049f15b",
   "metadata": {},
   "outputs": [],
   "source": []
  },
  {
   "cell_type": "code",
   "execution_count": null,
   "id": "67207afb",
   "metadata": {},
   "outputs": [],
   "source": []
  },
  {
   "cell_type": "code",
   "execution_count": null,
   "id": "472b0651",
   "metadata": {},
   "outputs": [],
   "source": []
  },
  {
   "cell_type": "code",
   "execution_count": null,
   "id": "c0f55c2e",
   "metadata": {},
   "outputs": [],
   "source": []
  }
 ],
 "metadata": {
  "kernelspec": {
   "display_name": "Python 3 (ipykernel)",
   "language": "python",
   "name": "python3"
  },
  "language_info": {
   "codemirror_mode": {
    "name": "ipython",
    "version": 3
   },
   "file_extension": ".py",
   "mimetype": "text/x-python",
   "name": "python",
   "nbconvert_exporter": "python",
   "pygments_lexer": "ipython3",
   "version": "3.11.5"
  }
 },
 "nbformat": 4,
 "nbformat_minor": 5
}
