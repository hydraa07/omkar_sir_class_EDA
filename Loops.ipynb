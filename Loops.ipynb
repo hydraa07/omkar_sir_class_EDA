{
 "cells": [
  {
   "cell_type": "markdown",
   "id": "98688fd7",
   "metadata": {},
   "source": [
    "# while loop"
   ]
  },
  {
   "cell_type": "code",
   "execution_count": 3,
   "id": "5f1e388d",
   "metadata": {},
   "outputs": [
    {
     "name": "stdout",
     "output_type": "stream",
     "text": [
      "0 1 2 3 4 5 6 7 8 9 10 "
     ]
    }
   ],
   "source": [
    "i=0;\n",
    "while i<=10:\n",
    "    print(i,end=\" \")\n",
    "    i=i+1"
   ]
  },
  {
   "cell_type": "code",
   "execution_count": 2,
   "id": "3720bb8a",
   "metadata": {},
   "outputs": [
    {
     "name": "stdout",
     "output_type": "stream",
     "text": [
      "0 1 2 3 4 5 6 7 8 9 10 \n",
      "now is greater than 10\n"
     ]
    }
   ],
   "source": [
    "# python me while ke sath else bhi aata hai\n",
    "i=0;\n",
    "while i<=10:\n",
    "    print(i,end=\" \")\n",
    "    i=i+1\n",
    "else:\n",
    "    print(end=\"\\n\")\n",
    "    print(\"now is greater than 10\")"
   ]
  },
  {
   "cell_type": "code",
   "execution_count": 3,
   "id": "a3c7b27c",
   "metadata": {},
   "outputs": [
    {
     "name": "stdout",
     "output_type": "stream",
     "text": [
      "I\n",
      "n\n",
      "d\n",
      "o\n",
      "r\n",
      "e\n"
     ]
    }
   ],
   "source": [
    "# for loop in python \n",
    "\n",
    "city = \"Indore\"\n",
    "for ch in city:\n",
    "    print(ch)"
   ]
  },
  {
   "cell_type": "code",
   "execution_count": 8,
   "id": "b17b3056",
   "metadata": {},
   "outputs": [
    {
     "name": "stdout",
     "output_type": "stream",
     "text": [
      "R\n",
      "v\n",
      "n\n",
      "d\n",
      "r\n"
     ]
    }
   ],
   "source": [
    "# check the vovel into the string\n",
    "string = \"Ravindra\"\n",
    "for ch in string:\n",
    "    if ch not in \"a e i o u\": # vovel nhi dega out me\n",
    "        print(ch)"
   ]
  },
  {
   "cell_type": "code",
   "execution_count": 16,
   "id": "fe538725",
   "metadata": {},
   "outputs": [
    {
     "name": "stdout",
     "output_type": "stream",
     "text": [
      "0 1 2 3 4 5 6 7 8 9 10 11 12 13 14 15 16 17 18 19 \n",
      "5 6 7 8 9 10 \n",
      "3 5 7 9 11 13 15 17 19 "
     ]
    }
   ],
   "source": [
    "# Range() function\n",
    "# range(arg)\n",
    "# range(starting , end-1)\n",
    "# range(starting , end-1, jump)\n",
    "\n",
    "\n",
    "\n",
    "for ch in range(20):\n",
    "    print(ch,end=\" \")\n",
    "    \n",
    "print(end='\\n')\n",
    "\n",
    "for ch in range(5,11):\n",
    "    print(ch, end=\" \")\n",
    "    \n",
    "print(end='\\n')\n",
    "\n",
    "for ch in range(3,20,2):\n",
    "    print(ch, end=\" \")\n",
    "    "
   ]
  },
  {
   "cell_type": "code",
   "execution_count": 17,
   "id": "12f66d50",
   "metadata": {},
   "outputs": [
    {
     "name": "stdout",
     "output_type": "stream",
     "text": [
      "[0, 1, 2, 3, 4, 5, 6, 7, 8, 9]\n"
     ]
    }
   ],
   "source": [
    "a = range(10) # list ban jati hai \n",
    "print(list(a))"
   ]
  },
  {
   "cell_type": "markdown",
   "id": "8593e395",
   "metadata": {},
   "source": [
    "# Functions\n"
   ]
  },
  {
   "cell_type": "code",
   "execution_count": 23,
   "id": "f572271e",
   "metadata": {},
   "outputs": [
    {
     "name": "stdout",
     "output_type": "stream",
     "text": [
      "Enter the first number3050\n",
      "Enter the second number30\n",
      "3080\n"
     ]
    }
   ],
   "source": [
    "# addition programe with function\n",
    "# no return value\n",
    "def add(a,b):\n",
    "    c=a+b\n",
    "    print(c)\n",
    "    \n",
    "x = eval(input(\"Enter the first number\"))\n",
    "y = eval(input(\"Enter the second number\"))\n",
    "\n",
    "add(x,y)"
   ]
  },
  {
   "cell_type": "code",
   "execution_count": 24,
   "id": "7aa33162",
   "metadata": {},
   "outputs": [
    {
     "name": "stdout",
     "output_type": "stream",
     "text": [
      "Enter the first number100\n",
      "Enter the second number200\n",
      "300\n"
     ]
    }
   ],
   "source": [
    "# addition programe with function\n",
    "# with return value\n",
    "def add(a,b):\n",
    "    c=a+b\n",
    "    return c\n",
    "    \n",
    "x = eval(input(\"Enter the first number\"))\n",
    "y = eval(input(\"Enter the second number\"))\n",
    "\n",
    "print(add(x,y))"
   ]
  },
  {
   "cell_type": "code",
   "execution_count": 26,
   "id": "19e621c7",
   "metadata": {},
   "outputs": [
    {
     "name": "stdout",
     "output_type": "stream",
     "text": [
      "enter the number-15\n",
      "15\n"
     ]
    }
   ],
   "source": [
    "# Q. WAP print the absolute value\n",
    "# it means only positive number and we can say distance of zero to that number\n",
    "\n",
    "def absolute(number):\n",
    "    if number>0:\n",
    "        return number\n",
    "    else:\n",
    "        return -(number)     # maths ke rule follow karte hai python me\n",
    "\n",
    "number = eval(input(\"enter the number\"))\n",
    "print(absolute(number))"
   ]
  },
  {
   "cell_type": "code",
   "execution_count": 27,
   "id": "6e2174ee",
   "metadata": {},
   "outputs": [
    {
     "name": "stdout",
     "output_type": "stream",
     "text": [
      "good morning Ravindra\n",
      "good morning Raksha\n"
     ]
    }
   ],
   "source": [
    "# write a greeting function\n",
    "def greeting(name):\n",
    "    print(f\"good morning {name}\")\n",
    "\n",
    "greeting(\"Ravindra\")\n",
    "greeting(\"Raksha\")"
   ]
  },
  {
   "cell_type": "markdown",
   "id": "9e7f42f6",
   "metadata": {},
   "source": [
    "# return multiple value "
   ]
  },
  {
   "cell_type": "code",
   "execution_count": 29,
   "id": "fa140dc7",
   "metadata": {},
   "outputs": [
    {
     "name": "stdout",
     "output_type": "stream",
     "text": [
      "Enter the first number10\n",
      "Enter the second number5\n",
      "(15, 5, 50, 2)\n"
     ]
    }
   ],
   "source": [
    "def fun(a,b):\n",
    "    x = a+b\n",
    "    y = a-b\n",
    "    z = a*b\n",
    "    ans = a//b\n",
    "    \n",
    "    return x,y,z,ans  # return tuple\n",
    "\n",
    "a = eval(input(\"Enter the first number\"))\n",
    "b = eval(input(\"Enter the second number\"))\n",
    "\n",
    "result = fun(a,b)\n",
    "\n",
    "print(result)"
   ]
  },
  {
   "cell_type": "code",
   "execution_count": null,
   "id": "601f40d6",
   "metadata": {},
   "outputs": [],
   "source": []
  },
  {
   "cell_type": "code",
   "execution_count": null,
   "id": "e40a302e",
   "metadata": {},
   "outputs": [],
   "source": []
  },
  {
   "cell_type": "code",
   "execution_count": null,
   "id": "942356d2",
   "metadata": {},
   "outputs": [],
   "source": []
  },
  {
   "cell_type": "code",
   "execution_count": null,
   "id": "dead8585",
   "metadata": {},
   "outputs": [],
   "source": []
  }
 ],
 "metadata": {
  "kernelspec": {
   "display_name": "Python 3 (ipykernel)",
   "language": "python",
   "name": "python3"
  },
  "language_info": {
   "codemirror_mode": {
    "name": "ipython",
    "version": 3
   },
   "file_extension": ".py",
   "mimetype": "text/x-python",
   "name": "python",
   "nbconvert_exporter": "python",
   "pygments_lexer": "ipython3",
   "version": "3.11.5"
  }
 },
 "nbformat": 4,
 "nbformat_minor": 5
}
