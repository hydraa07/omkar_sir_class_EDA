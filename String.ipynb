{
 "cells": [
  {
   "cell_type": "markdown",
   "id": "1148afa7",
   "metadata": {},
   "source": [
    "# 4.Write a python                                                                                                         program to find the area and volume of sphere. Formulas are:                 Area = 4*PI*R*R Volume = (4/3)*PI*R*R*R."
   ]
  },
  {
   "cell_type": "code",
   "execution_count": 5,
   "id": "ffc3323d",
   "metadata": {},
   "outputs": [
    {
     "name": "stdout",
     "output_type": "stream",
     "text": [
      "Enter the radius5\n",
      "area is  = 314.1592653589793\n",
      "volume is =523.5987755982989\n"
     ]
    }
   ],
   "source": [
    "from math import *\n",
    "def area(r):\n",
    "    print(f\"area is  = {4*pi*r**2}\")\n",
    "def volume(r):\n",
    "    ans = (4/3)*pi*r**3\n",
    "    print(f\"volume is ={ans}\")      \n",
    "radius=eval(input(\"Enter the radius\"))\n",
    "area(radius)\n",
    "volume(radius)"
   ]
  },
  {
   "cell_type": "markdown",
   "id": "2921115d",
   "metadata": {},
   "source": [
    "# 5. Write a pyhton program to print the multiply value of two accepted numbers"
   ]
  },
  {
   "cell_type": "code",
   "execution_count": 6,
   "id": "5e4e73ff",
   "metadata": {},
   "outputs": [
    {
     "name": "stdout",
     "output_type": "stream",
     "text": [
      "Enter the number6\n",
      "Enter the number3\n",
      "18\n"
     ]
    }
   ],
   "source": [
    "a = eval(input(\"Enter the number\"))\n",
    "b = eval(input(\"Enter the number\"))\n",
    "print(a*b)"
   ]
  },
  {
   "cell_type": "markdown",
   "id": "eeb5d94d",
   "metadata": {},
   "source": [
    "# 6.Write a pyhton program to convert centigrade into Fahrenheit. Formula: C= (F-32)/1.8"
   ]
  },
  {
   "cell_type": "code",
   "execution_count": 10,
   "id": "abb184df",
   "metadata": {},
   "outputs": [
    {
     "name": "stdout",
     "output_type": "stream",
     "text": [
      "Enter the f99\n",
      "37.22222222222222\n"
     ]
    }
   ],
   "source": [
    "def cel(f):\n",
    "    return (f-32)/1.8\n",
    "f = eval(input(\"Enter the f\"))\n",
    "print(cel(f))"
   ]
  },
  {
   "cell_type": "markdown",
   "id": "6e9b142c",
   "metadata": {},
   "source": [
    "# 7.Write a pyhton program to calculate simple interest."
   ]
  },
  {
   "cell_type": "code",
   "execution_count": 12,
   "id": "8ae7ab5d",
   "metadata": {},
   "outputs": [
    {
     "name": "stdout",
     "output_type": "stream",
     "text": [
      "Enter the vlues1000\n",
      "Enter the vlues2\n",
      "Enter the vlues1\n",
      "20.0\n"
     ]
    }
   ],
   "source": [
    "def interest(a,b,c):\n",
    "    return (a*b*c)/100\n",
    "a = eval(input(\"Enter the vlues\"))\n",
    "b = eval(input(\"Enter the vlues\"))\n",
    "c = eval(input(\"Enter the vlues\"))\n",
    "\n",
    "print(interest(a,b,c))"
   ]
  },
  {
   "cell_type": "code",
   "execution_count": null,
   "id": "ae0f2b47",
   "metadata": {},
   "outputs": [],
   "source": []
  },
  {
   "cell_type": "code",
   "execution_count": null,
   "id": "88c0d7a2",
   "metadata": {},
   "outputs": [],
   "source": []
  },
  {
   "cell_type": "code",
   "execution_count": null,
   "id": "89b7bdbe",
   "metadata": {},
   "outputs": [],
   "source": []
  },
  {
   "cell_type": "code",
   "execution_count": null,
   "id": "b9f7522b",
   "metadata": {},
   "outputs": [],
   "source": []
  },
  {
   "cell_type": "code",
   "execution_count": null,
   "id": "05e231f3",
   "metadata": {},
   "outputs": [],
   "source": []
  },
  {
   "cell_type": "code",
   "execution_count": null,
   "id": "2a15358b",
   "metadata": {},
   "outputs": [],
   "source": []
  },
  {
   "cell_type": "code",
   "execution_count": null,
   "id": "f6197d79",
   "metadata": {},
   "outputs": [],
   "source": []
  },
  {
   "cell_type": "code",
   "execution_count": null,
   "id": "9e9b54b0",
   "metadata": {},
   "outputs": [],
   "source": []
  },
  {
   "cell_type": "code",
   "execution_count": null,
   "id": "7a7c1445",
   "metadata": {},
   "outputs": [],
   "source": []
  }
 ],
 "metadata": {
  "kernelspec": {
   "display_name": "Python 3 (ipykernel)",
   "language": "python",
   "name": "python3"
  },
  "language_info": {
   "codemirror_mode": {
    "name": "ipython",
    "version": 3
   },
   "file_extension": ".py",
   "mimetype": "text/x-python",
   "name": "python",
   "nbconvert_exporter": "python",
   "pygments_lexer": "ipython3",
   "version": "3.11.5"
  }
 },
 "nbformat": 4,
 "nbformat_minor": 5
}
