{
 "cells": [
  {
   "cell_type": "code",
   "execution_count": 1,
   "id": "3fab92c1",
   "metadata": {},
   "outputs": [],
   "source": [
    "import math"
   ]
  },
  {
   "cell_type": "code",
   "execution_count": 2,
   "id": "38d21096",
   "metadata": {},
   "outputs": [
    {
     "data": {
      "text/plain": [
       "3.141592653589793"
      ]
     },
     "execution_count": 2,
     "metadata": {},
     "output_type": "execute_result"
    }
   ],
   "source": [
    "a = math.pi\n",
    "a"
   ]
  },
  {
   "cell_type": "code",
   "execution_count": 4,
   "id": "737dd2c9",
   "metadata": {},
   "outputs": [
    {
     "name": "stdout",
     "output_type": "stream",
     "text": [
      "enter the radius5\n",
      "primap is 31.41592653589793\n",
      "the area is = 78.53981633974483\n"
     ]
    }
   ],
   "source": [
    "# Q..WAP take a inpure from the user and print the area and primap\n",
    "import math\n",
    "r = eval(input(\"enter the radius\"))\n",
    "print(f'primap is {2*math.pi*r}')\n",
    "print(f\"the area is = {math.pi*r**2}\")"
   ]
  },
  {
   "cell_type": "code",
   "execution_count": null,
   "id": "b63ed06d",
   "metadata": {},
   "outputs": [],
   "source": []
  }
 ],
 "metadata": {
  "kernelspec": {
   "display_name": "Python 3 (ipykernel)",
   "language": "python",
   "name": "python3"
  },
  "language_info": {
   "codemirror_mode": {
    "name": "ipython",
    "version": 3
   },
   "file_extension": ".py",
   "mimetype": "text/x-python",
   "name": "python",
   "nbconvert_exporter": "python",
   "pygments_lexer": "ipython3",
   "version": "3.11.5"
  }
 },
 "nbformat": 4,
 "nbformat_minor": 5
}
