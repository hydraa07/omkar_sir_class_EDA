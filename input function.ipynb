{
 "cells": [
  {
   "cell_type": "markdown",
   "id": "c764175a",
   "metadata": {},
   "source": [
    "# input() function "
   ]
  },
  {
   "cell_type": "code",
   "execution_count": 2,
   "id": "dfad5b4c",
   "metadata": {},
   "outputs": [
    {
     "name": "stdout",
     "output_type": "stream",
     "text": [
      "input function gives us string of the expressionsRam Ram\n",
      "<class 'str'>\n",
      "Ram Ram\n"
     ]
    }
   ],
   "source": [
    "a = input(\"input function gives us string of the expressions\")\n",
    "print(type(a))\n",
    "print(a)"
   ]
  },
  {
   "cell_type": "markdown",
   "id": "35e26355",
   "metadata": {},
   "source": [
    "# aliasing packages \n",
    "# it means package will rename"
   ]
  },
  {
   "cell_type": "code",
   "execution_count": 4,
   "id": "17c3a442",
   "metadata": {},
   "outputs": [
    {
     "data": {
      "text/plain": [
       "120"
      ]
     },
     "execution_count": 4,
     "metadata": {},
     "output_type": "execute_result"
    }
   ],
   "source": [
    "import math as m\n",
    "m.factorial(5)"
   ]
  },
  {
   "cell_type": "code",
   "execution_count": 6,
   "id": "9d6cdb68",
   "metadata": {},
   "outputs": [
    {
     "data": {
      "text/plain": [
       "720"
      ]
     },
     "execution_count": 6,
     "metadata": {},
     "output_type": "execute_result"
    }
   ],
   "source": [
    "# also we are import module like this \n",
    "#import name1, name2, name3, name4......\n",
    "\n",
    "\n",
    "# other way is \n",
    "from math import * # all properties will come in code\n",
    "factorial(6)"
   ]
  },
  {
   "cell_type": "markdown",
   "id": "9b2a46d1",
   "metadata": {},
   "source": [
    "# multiple input at a time by the input()\n",
    "# we will use the split()"
   ]
  },
  {
   "cell_type": "code",
   "execution_count": 1,
   "id": "77919bcb",
   "metadata": {},
   "outputs": [
    {
     "name": "stdout",
     "output_type": "stream",
     "text": [
      "Enter the name and surnameRavindra Panwar\n",
      "Ravindra Panwar\n"
     ]
    }
   ],
   "source": [
    "name,surname = input(\"Enter the name and surname\").split()\n",
    "print(name , surname)"
   ]
  },
  {
   "cell_type": "code",
   "execution_count": 7,
   "id": "173a266d",
   "metadata": {},
   "outputs": [
    {
     "name": "stdout",
     "output_type": "stream",
     "text": [
      "Enter the name: i,love,python\n",
      "Enter the msg: i love programming\n",
      "i love programming\n",
      "i love python\n"
     ]
    }
   ],
   "source": [
    "# split only use in input() function\n",
    "name = input(\"Enter the name: \")\n",
    "msg = input(\"Enter the msg: \")\n",
    "a,b,c = msg.split(\" \")\n",
    "x,y,z = name.split(\",\")\n",
    "print(a,b,c)\n",
    "print(x,y,z)"
   ]
  },
  {
   "cell_type": "code",
   "execution_count": null,
   "id": "1bd3a6a7",
   "metadata": {},
   "outputs": [],
   "source": []
  },
  {
   "cell_type": "code",
   "execution_count": 8,
   "id": "c5aefcf1",
   "metadata": {},
   "outputs": [
    {
     "name": "stdout",
     "output_type": "stream",
     "text": [
      " a is 10 \n",
      " a is 10 \n"
     ]
    }
   ],
   "source": [
    "# formate spacifires \n",
    "# int              %d , %i \n",
    "# float            %f\n",
    "# single charactor %c\n",
    "# string           %s\n",
    "\n",
    "a=10 \n",
    "print(\" a is %d \"  %a)\n",
    "print(\" a is %i \" %a)"
   ]
  },
  {
   "cell_type": "code",
   "execution_count": 9,
   "id": "721a7e5c",
   "metadata": {},
   "outputs": [
    {
     "name": "stdout",
     "output_type": "stream",
     "text": [
      "num is 40.800000 \n"
     ]
    }
   ],
   "source": [
    "num = 40.8\n",
    "print(\"num is %f \" %num)"
   ]
  },
  {
   "cell_type": "code",
   "execution_count": 15,
   "id": "d9633959",
   "metadata": {},
   "outputs": [
    {
     "name": "stdout",
     "output_type": "stream",
     "text": [
      "char is v\n",
      " a is M\n",
      "string is ravi\n",
      "string is ravi and 77 char is M and first letter of s is r\n"
     ]
    }
   ],
   "source": [
    "s = \"ravi\"\n",
    "a = 77\n",
    "print(\"char is %c\" %s[2])\n",
    "print(\" a is %c\" %a)\n",
    "print(\"string is %s\" %s)\n",
    "\n",
    "print(\"string is %s and 77 char is %c and first letter of s is %c\"%(s,a,s[0]))"
   ]
  },
  {
   "cell_type": "code",
   "execution_count": null,
   "id": "ad5cb57c",
   "metadata": {},
   "outputs": [],
   "source": []
  },
  {
   "cell_type": "code",
   "execution_count": null,
   "id": "331db6b2",
   "metadata": {},
   "outputs": [],
   "source": []
  },
  {
   "cell_type": "code",
   "execution_count": null,
   "id": "d488c4df",
   "metadata": {},
   "outputs": [],
   "source": []
  }
 ],
 "metadata": {
  "kernelspec": {
   "display_name": "Python 3 (ipykernel)",
   "language": "python",
   "name": "python3"
  },
  "language_info": {
   "codemirror_mode": {
    "name": "ipython",
    "version": 3
   },
   "file_extension": ".py",
   "mimetype": "text/x-python",
   "name": "python",
   "nbconvert_exporter": "python",
   "pygments_lexer": "ipython3",
   "version": "3.11.5"
  }
 },
 "nbformat": 4,
 "nbformat_minor": 5
}
