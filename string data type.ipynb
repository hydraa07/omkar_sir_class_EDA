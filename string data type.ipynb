{
 "cells": [
  {
   "cell_type": "markdown",
   "id": "537f3e58",
   "metadata": {},
   "source": [
    "# string data type"
   ]
  },
  {
   "cell_type": "code",
   "execution_count": null,
   "id": "67918c2d",
   "metadata": {},
   "outputs": [],
   "source": []
  },
  {
   "cell_type": "code",
   "execution_count": null,
   "id": "8a7a3f04",
   "metadata": {},
   "outputs": [],
   "source": []
  },
  {
   "cell_type": "code",
   "execution_count": null,
   "id": "345011af",
   "metadata": {},
   "outputs": [],
   "source": []
  },
  {
   "cell_type": "code",
   "execution_count": null,
   "id": "c9d65633",
   "metadata": {},
   "outputs": [],
   "source": []
  },
  {
   "cell_type": "code",
   "execution_count": 3,
   "id": "7b3dcd72",
   "metadata": {},
   "outputs": [
    {
     "name": "stdout",
     "output_type": "stream",
     "text": [
      "True\n",
      "False\n"
     ]
    },
    {
     "data": {
      "text/plain": [
       "'\"ravindra\" and \"RAVINDRA\"'"
      ]
     },
     "execution_count": 3,
     "metadata": {},
     "output_type": "execute_result"
    }
   ],
   "source": [
    "a = \"ravindra\"\n",
    "b = \"RAVINDRA\"\n",
    "print(a>b)\n",
    "print(a<b)\n",
    "\n",
    "s = '\"ravindra\" and \"RAVINDRA\"'\n",
    "s"
   ]
  },
  {
   "cell_type": "markdown",
   "id": "bd703b2e",
   "metadata": {},
   "source": [
    "# indexing print"
   ]
  },
  {
   "cell_type": "code",
   "execution_count": 7,
   "id": "b9d8ccfb",
   "metadata": {},
   "outputs": [
    {
     "name": "stdout",
     "output_type": "stream",
     "text": [
      "d e r\n",
      "r n d\n"
     ]
    }
   ],
   "source": [
    "a = 'indore'\n",
    "print(a[2], a[5], a[4])\n",
    "\n",
    "# with negative indexs\n",
    "\n",
    "print(a[-2], a[-5], a[-4])"
   ]
  },
  {
   "cell_type": "markdown",
   "id": "0115bc49",
   "metadata": {},
   "source": [
    "# concatination"
   ]
  },
  {
   "cell_type": "code",
   "execution_count": 10,
   "id": "47068ba0",
   "metadata": {},
   "outputs": [
    {
     "name": "stdout",
     "output_type": "stream",
     "text": [
      "goodmorning\n",
      "100200\n"
     ]
    }
   ],
   "source": [
    "# 2 strings ko add karna hai \n",
    "a = \"good\"\n",
    "b = \"morning\"\n",
    "print(a+b)\n",
    "\n",
    "n1 = \"100\"\n",
    "n2 = \"200\"\n",
    "print (n1+n2) # it is a concatinations"
   ]
  },
  {
   "cell_type": "markdown",
   "id": "7d8cb24b",
   "metadata": {},
   "source": [
    "# slicing name[ i:j ]  \n",
    "# slicing  me sub string print hoti hai \n",
    "# it can be say we can print string with the range index \n",
    "# indexing will be start in 0 and negative indexing is also available"
   ]
  },
  {
   "cell_type": "code",
   "execution_count": 12,
   "id": "32b08548",
   "metadata": {},
   "outputs": [
    {
     "name": "stdout",
     "output_type": "stream",
     "text": [
      "vind\n",
      "Ravindra\n",
      "Ravindra\n",
      "Ravin\n",
      "Ravindra\n",
      "vindra\n",
      "Ravindra\n"
     ]
    }
   ],
   "source": [
    "name = \"Ravindra\"\n",
    "print(name[2:6]) # [] <= this is the scripting opretor\n",
    "print(name[:])\n",
    "print(name[0:100])\n",
    "print(name[:5])\n",
    "print(name[:100])  # index range ke bhar jata hai to python khud hi last y first index rakh deti hai\n",
    "print(name[2:])\n",
    "print(name[0:])"
   ]
  },
  {
   "cell_type": "markdown",
   "id": "72125d89",
   "metadata": {},
   "source": [
    "# sclicing has also 3rd value id jumping and we can say step value \n",
    "# name[x:y:z ]  \n",
    "# x = starting index\n",
    "# y = end-1 index\n",
    "# z = jumping index\n"
   ]
  },
  {
   "cell_type": "code",
   "execution_count": 13,
   "id": "7401150a",
   "metadata": {},
   "outputs": [
    {
     "name": "stdout",
     "output_type": "stream",
     "text": [
      "hdrb\n"
     ]
    }
   ],
   "source": [
    "a = 'hyderabad'\n",
    "b = a[0:7:2] #now a has 2 step jumps \n",
    "print(b)\n"
   ]
  },
  {
   "cell_type": "markdown",
   "id": "68733407",
   "metadata": {},
   "source": [
    "# some function of string"
   ]
  },
  {
   "cell_type": "markdown",
   "id": "ad754c31",
   "metadata": {},
   "source": [
    "# len()  it gives us lenght of string\n",
    "# lower() lower case dega\n",
    "# upper() sb upper case me kr dega\n",
    "\n",
    "# this function made a copy of origanal string and edit this according to the   function"
   ]
  },
  {
   "cell_type": "code",
   "execution_count": 14,
   "id": "77076f37",
   "metadata": {},
   "outputs": [
    {
     "name": "stdout",
     "output_type": "stream",
     "text": [
      "9\n"
     ]
    }
   ],
   "source": [
    "name = 'Hyderabad'\n",
    "print(len(name))"
   ]
  },
  {
   "cell_type": "code",
   "execution_count": 16,
   "id": "bfedb7e6",
   "metadata": {},
   "outputs": [
    {
     "name": "stdout",
     "output_type": "stream",
     "text": [
      "9\n",
      "hyderabad\n",
      "HYDERABAD\n"
     ]
    }
   ],
   "source": [
    "name = 'Hyderabad'\n",
    "print(len(name))\n",
    "print(name.lower()) \n",
    "print(name.upper())"
   ]
  },
  {
   "cell_type": "code",
   "execution_count": null,
   "id": "d7769003",
   "metadata": {},
   "outputs": [],
   "source": []
  },
  {
   "cell_type": "code",
   "execution_count": 7,
   "id": "f03a9475",
   "metadata": {},
   "outputs": [
    {
     "name": "stdout",
     "output_type": "stream",
     "text": [
      "10\n",
      "9\n",
      "8\n",
      "7\n",
      "6\n",
      "5\n",
      "4\n",
      "3\n",
      "2\n",
      "1\n",
      "None\n"
     ]
    }
   ],
   "source": [
    "def sum(a):\n",
    "    if a==0:\n",
    "        return a\n",
    "    print(a)\n",
    "    sum(a-1)\n",
    "    \n",
    "    \n",
    "a = 10\n",
    "b = sum(a)\n",
    "print(b)"
   ]
  },
  {
   "cell_type": "code",
   "execution_count": 10,
   "id": "b64fb860",
   "metadata": {},
   "outputs": [
    {
     "name": "stdout",
     "output_type": "stream",
     "text": [
      "15\n"
     ]
    }
   ],
   "source": [
    "def sum(a):\n",
    "    print(a)\n",
    "    \n",
    "a = 15\n",
    "sum(a)"
   ]
  },
  {
   "cell_type": "code",
   "execution_count": 14,
   "id": "b879fd39",
   "metadata": {},
   "outputs": [
    {
     "name": "stdout",
     "output_type": "stream",
     "text": [
      "15\n"
     ]
    }
   ],
   "source": [
    "def sum(a):\n",
    "    \n",
    "    return a\n",
    "    \n",
    "num = 15\n",
    "ans = sum(num)\n",
    "print(ans)"
   ]
  },
  {
   "cell_type": "code",
   "execution_count": 16,
   "id": "0e3c9218",
   "metadata": {},
   "outputs": [
    {
     "name": "stdout",
     "output_type": "stream",
     "text": [
      "\n"
     ]
    }
   ],
   "source": [
    "def pd(s):\n",
    "    str=\"\"\n",
    "    for i in s:\n",
    "        if i in str:\n",
    "            str +=i\n",
    "    return str\n",
    "print(pd(\"hello world\"))"
   ]
  },
  {
   "cell_type": "code",
   "execution_count": 12,
   "id": "6cf2aa97",
   "metadata": {},
   "outputs": [
    {
     "name": "stdout",
     "output_type": "stream",
     "text": [
      "lol\n"
     ]
    }
   ],
   "source": [
    "def pd(s):\n",
    "    str1=\"\"\n",
    "    str2 =\"\"\n",
    "    for i in s:\n",
    "        if i not in str1:\n",
    "            str1 +=i\n",
    "        else:\n",
    "            str2 +=i\n",
    "    return str2\n",
    "\n",
    "ans = pd(\"hello world\")\n",
    "\n",
    "print(ans)"
   ]
  },
  {
   "cell_type": "code",
   "execution_count": null,
   "id": "9041fc13",
   "metadata": {},
   "outputs": [],
   "source": []
  }
 ],
 "metadata": {
  "kernelspec": {
   "display_name": "Python 3 (ipykernel)",
   "language": "python",
   "name": "python3"
  },
  "language_info": {
   "codemirror_mode": {
    "name": "ipython",
    "version": 3
   },
   "file_extension": ".py",
   "mimetype": "text/x-python",
   "name": "python",
   "nbconvert_exporter": "python",
   "pygments_lexer": "ipython3",
   "version": "3.11.5"
  }
 },
 "nbformat": 4,
 "nbformat_minor": 5
}
