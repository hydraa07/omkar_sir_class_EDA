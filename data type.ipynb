{
 "cells": [
  {
   "cell_type": "markdown",
   "id": "5c7162e2",
   "metadata": {},
   "source": [
    "# data Type in pyhton are tynamc\n",
    "# data type are unbounded"
   ]
  },
  {
   "cell_type": "code",
   "execution_count": null,
   "id": "9f19ce1d",
   "metadata": {},
   "outputs": [],
   "source": [
    "a=5\n",
    "b= 8.3\n",
    "c = \"ravindra\"\n",
    "d = True"
   ]
  },
  {
   "cell_type": "code",
   "execution_count": 2,
   "id": "f8ddc2e5",
   "metadata": {},
   "outputs": [],
   "source": [
    "# size of the variable \n",
    "import sys"
   ]
  },
  {
   "cell_type": "code",
   "execution_count": 3,
   "id": "b40889dc",
   "metadata": {},
   "outputs": [
    {
     "data": {
      "text/plain": [
       "28"
      ]
     },
     "execution_count": 3,
     "metadata": {},
     "output_type": "execute_result"
    }
   ],
   "source": [
    "a=8\n",
    "sys.getsizeof(a)"
   ]
  },
  {
   "cell_type": "code",
   "execution_count": 6,
   "id": "0ad51ce6",
   "metadata": {},
   "outputs": [
    {
     "name": "stdout",
     "output_type": "stream",
     "text": [
      "28\n",
      "24\n",
      "24\n"
     ]
    }
   ],
   "source": [
    "a=9\n",
    "b= 83.8\n",
    "c=\"Ravindra\"\n",
    "\n",
    "\n",
    "first = sys.getsizeof(a) #size of int\n",
    "second = sys.getsizeof(b) # size of float\n",
    "third = sys.getsizeof(b) # size of string\n",
    "\n",
    "print(first)\n",
    "print(second)\n",
    "print(third)"
   ]
  },
  {
   "cell_type": "markdown",
   "id": "2b23eff1",
   "metadata": {},
   "source": [
    "- deciaml\n",
    "- binary\n",
    "- octal \n",
    "- hexadecimal"
   ]
  },
  {
   "cell_type": "code",
   "execution_count": 13,
   "id": "955d4439",
   "metadata": {},
   "outputs": [
    {
     "name": "stdout",
     "output_type": "stream",
     "text": [
      "9\n",
      "19\n",
      "-1\n"
     ]
    }
   ],
   "source": [
    "# Binary  0b  or 0B\n",
    "a = 0b01001  \n",
    "print(a)\n",
    "\n",
    "# aslo do the arithmatic oprations\n",
    "\n",
    "b =0b01010\n",
    "c = a+b\n",
    "print(c)\n",
    "\n",
    "c = a-b\n",
    "print(c)\n"
   ]
  },
  {
   "cell_type": "code",
   "execution_count": 10,
   "id": "a07665f0",
   "metadata": {},
   "outputs": [
    {
     "name": "stdout",
     "output_type": "stream",
     "text": [
      "1579144\n"
     ]
    }
   ],
   "source": [
    "# octal   0o or 0O\n",
    "a = 0o6014210\n",
    "print(a)"
   ]
  },
  {
   "cell_type": "code",
   "execution_count": 11,
   "id": "12a0654a",
   "metadata": {},
   "outputs": [
    {
     "name": "stdout",
     "output_type": "stream",
     "text": [
      "2562033628500\n"
     ]
    }
   ],
   "source": [
    "#hexadecimal   0x  or 0X\n",
    "a= 0x254851ab554\n",
    "print(a)"
   ]
  },
  {
   "cell_type": "code",
   "execution_count": 14,
   "id": "85da2ed3",
   "metadata": {},
   "outputs": [
    {
     "data": {
      "text/plain": [
       "'0b1010'"
      ]
     },
     "execution_count": 14,
     "metadata": {},
     "output_type": "execute_result"
    }
   ],
   "source": [
    "#############################convertion3######################################\n",
    "\n",
    "bin(10)"
   ]
  },
  {
   "cell_type": "code",
   "execution_count": 15,
   "id": "053a9df0",
   "metadata": {},
   "outputs": [
    {
     "name": "stdout",
     "output_type": "stream",
     "text": [
      "0b11\n",
      "0o12520\n",
      "0xf\n"
     ]
    }
   ],
   "source": [
    "print(bin(3))\n",
    "print(oct(5456))\n",
    "print(hex(15))"
   ]
  },
  {
   "cell_type": "code",
   "execution_count": 16,
   "id": "9c5f90e2",
   "metadata": {},
   "outputs": [
    {
     "name": "stdout",
     "output_type": "stream",
     "text": [
      "1\n",
      "2\n",
      "0\n"
     ]
    }
   ],
   "source": [
    "# some opration in bool data type\n",
    "a = True\n",
    "b = False\n",
    "print(a+b)\n",
    "print(a+a)\n",
    "print(b+b)"
   ]
  },
  {
   "cell_type": "code",
   "execution_count": 17,
   "id": "131c8a35",
   "metadata": {},
   "outputs": [
    {
     "data": {
      "text/plain": [
       "'goodmorning'"
      ]
     },
     "execution_count": 17,
     "metadata": {},
     "output_type": "execute_result"
    }
   ],
   "source": [
    "# string \n",
    "s1 = \"good\"\n",
    "s2 = \"morning\"\n",
    "s1+s2"
   ]
  },
  {
   "cell_type": "markdown",
   "id": "5c0052db",
   "metadata": {},
   "source": [
    "# slicing\n",
    "- slicing not give any error\n",
    "- jab kuch nhi hita to by default starting index and end-1 index fill kr deti hai\n",
    "\n",
    "  city = hyderabad\n",
    "  \n",
    "  print(city[:])          #full hyderabad \n",
    "  "
   ]
  },
  {
   "cell_type": "code",
   "execution_count": 18,
   "id": "176f2353",
   "metadata": {},
   "outputs": [
    {
     "data": {
      "text/plain": [
       "'e'"
      ]
     },
     "execution_count": 18,
     "metadata": {},
     "output_type": "execute_result"
    }
   ],
   "source": [
    " \n",
    "str = \"hyderabad\"\n",
    "str[3]"
   ]
  },
  {
   "cell_type": "code",
   "execution_count": 19,
   "id": "31532c1e",
   "metadata": {},
   "outputs": [
    {
     "data": {
      "text/plain": [
       "'dera'"
      ]
     },
     "execution_count": 19,
     "metadata": {},
     "output_type": "execute_result"
    }
   ],
   "source": [
    "str = \"hyderabad\"\n",
    "str[2:6]"
   ]
  },
  {
   "cell_type": "code",
   "execution_count": null,
   "id": "9859a169",
   "metadata": {},
   "outputs": [],
   "source": []
  },
  {
   "cell_type": "code",
   "execution_count": null,
   "id": "50c26533",
   "metadata": {},
   "outputs": [],
   "source": []
  },
  {
   "cell_type": "code",
   "execution_count": null,
   "id": "6c284e18",
   "metadata": {},
   "outputs": [],
   "source": []
  },
  {
   "cell_type": "code",
   "execution_count": null,
   "id": "f851940b",
   "metadata": {},
   "outputs": [],
   "source": []
  },
  {
   "cell_type": "code",
   "execution_count": null,
   "id": "2cbf0cd1",
   "metadata": {},
   "outputs": [],
   "source": []
  },
  {
   "cell_type": "code",
   "execution_count": null,
   "id": "d1a364e7",
   "metadata": {},
   "outputs": [],
   "source": []
  },
  {
   "cell_type": "code",
   "execution_count": null,
   "id": "0e8d9425",
   "metadata": {},
   "outputs": [],
   "source": []
  },
  {
   "cell_type": "code",
   "execution_count": null,
   "id": "0cbd54bc",
   "metadata": {},
   "outputs": [],
   "source": []
  },
  {
   "cell_type": "code",
   "execution_count": null,
   "id": "9f6f6c70",
   "metadata": {},
   "outputs": [],
   "source": []
  },
  {
   "cell_type": "code",
   "execution_count": null,
   "id": "84472605",
   "metadata": {},
   "outputs": [],
   "source": []
  },
  {
   "cell_type": "code",
   "execution_count": null,
   "id": "a708b92e",
   "metadata": {},
   "outputs": [],
   "source": []
  }
 ],
 "metadata": {
  "kernelspec": {
   "display_name": "Python 3 (ipykernel)",
   "language": "python",
   "name": "python3"
  },
  "language_info": {
   "codemirror_mode": {
    "name": "ipython",
    "version": 3
   },
   "file_extension": ".py",
   "mimetype": "text/x-python",
   "name": "python",
   "nbconvert_exporter": "python",
   "pygments_lexer": "ipython3",
   "version": "3.11.5"
  }
 },
 "nbformat": 4,
 "nbformat_minor": 5
}
