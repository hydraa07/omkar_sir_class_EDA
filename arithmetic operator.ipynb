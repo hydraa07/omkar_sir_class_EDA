{
 "cells": [
  {
   "cell_type": "markdown",
   "id": "5f2e700a",
   "metadata": {},
   "source": [
    "# arithmetic operator is \n",
    "# + ,- ,* , / , %, //, **"
   ]
  },
  {
   "cell_type": "markdown",
   "id": "2123db64",
   "metadata": {},
   "source": [
    "# / float division\n",
    "# // floor division\n",
    "# ** power of exponetial"
   ]
  },
  {
   "cell_type": "code",
   "execution_count": 2,
   "id": "7c32ecaa",
   "metadata": {},
   "outputs": [
    {
     "name": "stdout",
     "output_type": "stream",
     "text": [
      "5.0\n",
      "0\n",
      "3\n",
      "81\n"
     ]
    }
   ],
   "source": [
    "print (10/2) # 5.0\n",
    "print (10%2) # 0\n",
    "print (10//3) # it prints the intiger part of the value not fractional\n",
    "print (3**4)  # power "
   ]
  },
  {
   "cell_type": "markdown",
   "id": "1050a503",
   "metadata": {},
   "source": [
    "# 3 important points"
   ]
  },
  {
   "cell_type": "code",
   "execution_count": 3,
   "id": "50e93c9d",
   "metadata": {},
   "outputs": [
    {
     "name": "stdout",
     "output_type": "stream",
     "text": [
      "5\n",
      "-4\n",
      "5.0\n"
     ]
    }
   ],
   "source": [
    "# 1. positive number used than return positive intiger\n",
    "print(10//2) # 5\n",
    "\n",
    "# 2. negative number used it gives floor value means chhoti intiger\n",
    "print(10//-3) # -4\n",
    "\n",
    "# 3. use float value it gives float values\n",
    "print (10//2.0) # 5.0"
   ]
  },
  {
   "cell_type": "markdown",
   "id": "8a3aacc1",
   "metadata": {},
   "source": [
    "# relational operator\n",
    "# it gives us only True or flase"
   ]
  },
  {
   "cell_type": "code",
   "execution_count": 4,
   "id": "595d7123",
   "metadata": {},
   "outputs": [
    {
     "name": "stdout",
     "output_type": "stream",
     "text": [
      "True\n"
     ]
    }
   ],
   "source": [
    "print(5>4>3) # dono operator ke true hone per true dega"
   ]
  },
  {
   "cell_type": "code",
   "execution_count": 5,
   "id": "9ff92285",
   "metadata": {},
   "outputs": [
    {
     "name": "stdout",
     "output_type": "stream",
     "text": [
      "False\n"
     ]
    }
   ],
   "source": [
    "print(5>6>3) # false"
   ]
  },
  {
   "cell_type": "markdown",
   "id": "9c422a70",
   "metadata": {},
   "source": [
    "# logical operators "
   ]
  },
  {
   "cell_type": "code",
   "execution_count": 16,
   "id": "7319f263",
   "metadata": {},
   "outputs": [
    {
     "name": "stdout",
     "output_type": "stream",
     "text": [
      "0\n",
      "1\n",
      "0\n",
      "0\n",
      "1\n",
      "1\n",
      "0\n",
      "1\n",
      "False\n",
      "True\n"
     ]
    }
   ],
   "source": [
    "# kuch special nhi hai c++ me and or jesa hi hai lagic same hai syntax alg hai\n",
    "print(1 and 0)\n",
    "print(1 and 1)\n",
    "print(0 and 0)\n",
    "print(0 and 1)\n",
    "print(1 or 0)\n",
    "print(1 or 1)\n",
    "print(0 or 0)\n",
    "print(0 or 1)\n",
    "print(not 1)\n",
    "print(not 0)"
   ]
  },
  {
   "cell_type": "code",
   "execution_count": null,
   "id": "c0facf4b",
   "metadata": {},
   "outputs": [],
   "source": []
  }
 ],
 "metadata": {
  "kernelspec": {
   "display_name": "Python 3 (ipykernel)",
   "language": "python",
   "name": "python3"
  },
  "language_info": {
   "codemirror_mode": {
    "name": "ipython",
    "version": 3
   },
   "file_extension": ".py",
   "mimetype": "text/x-python",
   "name": "python",
   "nbconvert_exporter": "python",
   "pygments_lexer": "ipython3",
   "version": "3.11.5"
  }
 },
 "nbformat": 4,
 "nbformat_minor": 5
}
