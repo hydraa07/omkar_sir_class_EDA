{
 "cells": [
  {
   "cell_type": "code",
   "execution_count": 3,
   "id": "fc3985ed",
   "metadata": {},
   "outputs": [
    {
     "name": "stdout",
     "output_type": "stream",
     "text": [
      "[1, 2, 3, 4, 5, 6, 7, 8, 9]\n",
      "[1, 2, 'ravi', 'panwar', 3.56]\n"
     ]
    }
   ],
   "source": [
    "list=[1,2,3,4,5,6,7,8,9]\n",
    "print(list)\n",
    "my_list = [ 1,2, \"ravi\", \"panwar\",  3.56]\n",
    "print(my_list)"
   ]
  },
  {
   "cell_type": "code",
   "execution_count": 4,
   "id": "d97f7fcc",
   "metadata": {},
   "outputs": [
    {
     "name": "stdout",
     "output_type": "stream",
     "text": [
      "[1, 2, 3, 4, 5, 6, 7, 8, 9, 10, 1, 12, 11, 13, 15, 42, 51, 58986, 158, 6]\n",
      "5\n",
      "[3, 4, 5, 6, 7, 8, 9, 10, 1, 12, 11, 13, 15, 42, 51, 58986, 158, 6]\n",
      "[1, 2, 3, 4, 5, 6]\n",
      "[1, 2, 3, 4, 5, 6, 7, 8, 9, 10, 1, 12, 11, 13, 15, 42, 51, 58986, 158, 6]\n",
      "[3, 4, 5, 6, 7, 8]\n",
      "[3, 5, 7, 9, 1, 11, 15, 51]\n"
     ]
    }
   ],
   "source": [
    "# list can be access by 3 ways\n",
    "list = [1,2,3,4,5,6,7,8,9,10,1,12,11,13,15,42,51,58986,158,6]\n",
    "# 1st way\n",
    "print(list)\n",
    "\n",
    "# 2nd way\n",
    "print(list[4])\n",
    "\n",
    "# 3rd way = slicing\n",
    "\n",
    "print(list[2:])\n",
    "print(list[:6])\n",
    "print(list[:])\n",
    "print(list[2:8])\n",
    "print(list[2:18:2])"
   ]
  },
  {
   "cell_type": "code",
   "execution_count": 7,
   "id": "d51ca083",
   "metadata": {},
   "outputs": [
    {
     "name": "stdout",
     "output_type": "stream",
     "text": [
      "19 16\n",
      "[]\n",
      "[12, 13, 14, 15, 16, 17, 18]\n"
     ]
    }
   ],
   "source": [
    "# list have  negative index also\n",
    "list = [0,1,2,3,4,5,6,7,8,9,10,11,12,13,14,15,16,17,18,19,20]\n",
    "print(list[-2],list[-5])\n",
    "print(list[-2:-8])\n",
    "print(list[-9:-2])"
   ]
  },
  {
   "cell_type": "markdown",
   "id": "f28162ac",
   "metadata": {},
   "source": [
    "# revers list using for"
   ]
  },
  {
   "cell_type": "code",
   "execution_count": 1,
   "id": "6691cb37",
   "metadata": {},
   "outputs": [
    {
     "name": "stdout",
     "output_type": "stream",
     "text": [
      "9\n",
      "9 9\n",
      "8 8\n",
      "7 700\n",
      "6 6\n",
      "5 5\n",
      "4 4\n",
      "3 3\n",
      "2 2\n",
      "1 1\n"
     ]
    }
   ],
   "source": [
    "list = [1,2,3,4,5,6,700,8,9]\n",
    "print(len(list))\n",
    "for num in range(len(list),0,-1):\n",
    "    print(num,end=\" \")\n",
    "    print(list[num-1]) # index(0 , 8)"
   ]
  },
  {
   "cell_type": "code",
   "execution_count": 18,
   "id": "02d4396c",
   "metadata": {},
   "outputs": [
    {
     "name": "stdout",
     "output_type": "stream",
     "text": [
      "80\n",
      "7\n",
      "60\n",
      "50\n",
      "40\n",
      "30\n",
      "20\n",
      "10\n"
     ]
    }
   ],
   "source": [
    "list = [10,20,30,40,50,60,7,80]\n",
    "for i in range(7,-1,-1):\n",
    "    print(list[i])"
   ]
  },
  {
   "cell_type": "markdown",
   "id": "841cea3c",
   "metadata": {},
   "source": [
    "# Add the new data in the list\n",
    "# fun is append(arg)\n",
    "# append fun add data at the end of the list"
   ]
  },
  {
   "cell_type": "code",
   "execution_count": 20,
   "id": "5c96c0e4",
   "metadata": {},
   "outputs": [
    {
     "name": "stdout",
     "output_type": "stream",
     "text": [
      "[1, 5, 6, 7, 9, 4, 3, 2, 10]\n",
      "[1, 5, 6, 7, 9, 4, 3, 2, 10, 100]\n"
     ]
    }
   ],
   "source": [
    "list = [1,5,6,7,9,4,3,2,10]\n",
    "print(list)\n",
    "\n",
    "list.append(100) # 100 add in the list at the end\n",
    "print(list)"
   ]
  },
  {
   "cell_type": "code",
   "execution_count": 21,
   "id": "39cbf543",
   "metadata": {},
   "outputs": [
    {
     "name": "stdout",
     "output_type": "stream",
     "text": [
      "Enter the data10\n",
      "Enter the data30\n",
      "Enter the data50\n",
      "Enter the data50\n",
      "Enter the data20\n",
      "[10, 30, 50, 50, 20]\n",
      "160\n"
     ]
    }
   ],
   "source": [
    "# Q. WAP to accept five integer form the user , store them in a list display these integer and also siplay their sum\n",
    "\n",
    "my_list =[]\n",
    "for i in range(0,5):\n",
    "    x = eval(input('Enter the data'))\n",
    "    my_list.append(x)\n",
    "\n",
    "print(my_list)\n",
    "sum =0;\n",
    "for i in my_list:\n",
    "    sum += i\n",
    "print(sum)\n"
   ]
  },
  {
   "cell_type": "markdown",
   "id": "b2725653",
   "metadata": {},
   "source": [
    "# modifing the list"
   ]
  },
  {
   "cell_type": "code",
   "execution_count": 22,
   "id": "75f85b84",
   "metadata": {},
   "outputs": [
    {
     "name": "stdout",
     "output_type": "stream",
     "text": [
      "[5, 6, 4, 3, 1, 2, 9, 7, 8]\n",
      "[5, 6, 500, 3, 1, 2, 9, 7, 8]\n",
      "[5, 6, 500, 9999, 99999, 999999, 9, 7, 8]\n"
     ]
    }
   ],
   "source": [
    "list = [5,6,4,3,1,2,9,7,8]\n",
    "print(list)\n",
    "\n",
    "# edit the data\n",
    "list[2]=500\n",
    "print(list)\n",
    "\n",
    "# multiple change in the using the slicing oparetor\n",
    "list[3:6] = [9999,99999,999999]\n",
    "print(list)"
   ]
  },
  {
   "cell_type": "code",
   "execution_count": null,
   "id": "1d50b19d",
   "metadata": {},
   "outputs": [],
   "source": [
    "# delete item form the list using del operater\n",
    "# del list_var[index]\n",
    "# list_var[index] = []    # empty list pass karne se bhi data deleye ho jata hai"
   ]
  },
  {
   "cell_type": "code",
   "execution_count": 27,
   "id": "90b419a6",
   "metadata": {},
   "outputs": [
    {
     "name": "stdout",
     "output_type": "stream",
     "text": [
      "[1, 2, 3, 4, 5, 6, 7, 8, 9, 10, 11, 12, 13, 14, 15, 16, 17, 18, 19, 20]\n",
      "[1, 2, 3, 4, 5, 7, 8, 9, 10, 11, 12, 13, 14, 15, 16, 17, 18, 19, 20]\n",
      "[1, 7, 8, 9, 10, 11, 12, 13, 14, 15, 16, 17, 18, 19, 20]\n",
      "[1, 11, 12, 13, 14, 15, 16, 17, 18, 19, 20]\n",
      "<class 'list'>\n",
      "[]\n"
     ]
    }
   ],
   "source": [
    "list  = [1,2,3,4,5,6,7,8,9,10,11,12,13,14,15,16,17,18,19,20]\n",
    "print(list)\n",
    "\n",
    "del list[5]   # 6 delete ho gya\n",
    "print(list)  \n",
    "\n",
    "list[1:5] = []   # index 1 to 4 deleted\n",
    "print(list)\n",
    "\n",
    "del list[1:5]  # index 1 to 4 deleted\n",
    "print(list)\n",
    "\n",
    "del list\n",
    "print(list)  # obj ko bhi delete kr diya hai\n",
    "list =[]\n",
    "print(list) # this is empty list"
   ]
  },
  {
   "cell_type": "code",
   "execution_count": 28,
   "id": "7bd67cab",
   "metadata": {},
   "outputs": [
    {
     "name": "stdout",
     "output_type": "stream",
     "text": [
      "[1, 2, 4, 5, 6, 7, 8, 9, 10, 11, 12, 13, 14, 15, 16, 17, 18, 19, 20]\n"
     ]
    }
   ],
   "source": [
    "# list concatination\n",
    "list1 = [1,2,4,5,6,7,8,9]\n",
    "list2 = [10,11,12,13,14,15,16,17,18,19,20]\n",
    "print(list1 + list2)  # list concatination ,,, ->>  one condition both heppend list"
   ]
  },
  {
   "cell_type": "markdown",
   "id": "9cb15068",
   "metadata": {},
   "source": [
    "# insert(index , value) method\n",
    "# ye insert() method data ko replace nhi kart balki data ke aage shift karke data ko add kar deta hai jis index pr hum chahe\n",
    "\n",
    "# yeh slice ki tarh kam krta hai"
   ]
  },
  {
   "cell_type": "code",
   "execution_count": 34,
   "id": "35f10b3e",
   "metadata": {},
   "outputs": [
    {
     "name": "stdout",
     "output_type": "stream",
     "text": [
      "[1, 2, 3, 4, 5, 6, 7, 8, 9]\n",
      "[1, 2, 3, 500, 4, 5, 6, 7, 8, 9]\n",
      "[1, 2, 3, 500, 4, 5, 6, 7, 8, 9, 60000]\n",
      "[1, 2, 3, 4, 5, 6, 7, 8, 9, 500, 60000]\n"
     ]
    }
   ],
   "source": [
    "list = [1,2,3,4,5,6,7,8,9]\n",
    "print(list)\n",
    "\n",
    "list.insert(3,500)\n",
    "print(list)\n",
    "\n",
    "list.insert(15,60000)\n",
    "print(list)       # negative index bhi work kart hai\n",
    "\n",
    "list.sort()\n",
    "print(list)  # origanl list sort hui hai"
   ]
  },
  {
   "cell_type": "code",
   "execution_count": 32,
   "id": "5ee940a8",
   "metadata": {},
   "outputs": [
    {
     "name": "stdout",
     "output_type": "stream",
     "text": [
      "5\n",
      "2\n"
     ]
    },
    {
     "ename": "ValueError",
     "evalue": "500 is not in list",
     "output_type": "error",
     "traceback": [
      "\u001b[1;31m---------------------------------------------------------------------------\u001b[0m",
      "\u001b[1;31mValueError\u001b[0m                                Traceback (most recent call last)",
      "Cell \u001b[1;32mIn[32], line 7\u001b[0m\n\u001b[0;32m      5\u001b[0m \u001b[38;5;28mprint\u001b[39m(\u001b[38;5;28mlist\u001b[39m\u001b[38;5;241m.\u001b[39mindex(\u001b[38;5;241m5\u001b[39m))\n\u001b[0;32m      6\u001b[0m \u001b[38;5;28mprint\u001b[39m(\u001b[38;5;28mlist\u001b[39m\u001b[38;5;241m.\u001b[39mindex(\u001b[38;5;241m1\u001b[39m))\n\u001b[1;32m----> 7\u001b[0m \u001b[38;5;28mprint\u001b[39m(\u001b[38;5;28mlist\u001b[39m\u001b[38;5;241m.\u001b[39mindex(\u001b[38;5;241m500\u001b[39m))\n",
      "\u001b[1;31mValueError\u001b[0m: 500 is not in list"
     ]
    }
   ],
   "source": [
    "# index() method \n",
    "# item ka index return karta hai \n",
    "# list me items ki searching karta hai\n",
    "\n",
    "list = [9,8,1,7,6,5,4,3,2,1]\n",
    "print(list.index(5))\n",
    "print(list.index(1))\n",
    "print(list.index(500))"
   ]
  },
  {
   "cell_type": "code",
   "execution_count": null,
   "id": "71f5742e",
   "metadata": {},
   "outputs": [],
   "source": []
  },
  {
   "cell_type": "code",
   "execution_count": null,
   "id": "cd1e14d8",
   "metadata": {},
   "outputs": [],
   "source": []
  },
  {
   "cell_type": "code",
   "execution_count": null,
   "id": "42d1fff1",
   "metadata": {},
   "outputs": [],
   "source": []
  },
  {
   "cell_type": "code",
   "execution_count": null,
   "id": "58163539",
   "metadata": {},
   "outputs": [],
   "source": []
  },
  {
   "cell_type": "code",
   "execution_count": null,
   "id": "2e95f324",
   "metadata": {},
   "outputs": [],
   "source": []
  },
  {
   "cell_type": "code",
   "execution_count": null,
   "id": "a0289979",
   "metadata": {},
   "outputs": [],
   "source": []
  },
  {
   "cell_type": "code",
   "execution_count": null,
   "id": "f6f02053",
   "metadata": {},
   "outputs": [],
   "source": []
  },
  {
   "cell_type": "code",
   "execution_count": null,
   "id": "9a26f373",
   "metadata": {},
   "outputs": [],
   "source": []
  },
  {
   "cell_type": "code",
   "execution_count": null,
   "id": "842fdd09",
   "metadata": {},
   "outputs": [],
   "source": []
  },
  {
   "cell_type": "code",
   "execution_count": null,
   "id": "e31e2e8c",
   "metadata": {},
   "outputs": [],
   "source": []
  },
  {
   "cell_type": "code",
   "execution_count": null,
   "id": "4f064f08",
   "metadata": {},
   "outputs": [],
   "source": []
  },
  {
   "cell_type": "code",
   "execution_count": null,
   "id": "c842529e",
   "metadata": {},
   "outputs": [],
   "source": []
  },
  {
   "cell_type": "code",
   "execution_count": null,
   "id": "83986e0b",
   "metadata": {},
   "outputs": [],
   "source": []
  }
 ],
 "metadata": {
  "kernelspec": {
   "display_name": "Python 3 (ipykernel)",
   "language": "python",
   "name": "python3"
  },
  "language_info": {
   "codemirror_mode": {
    "name": "ipython",
    "version": 3
   },
   "file_extension": ".py",
   "mimetype": "text/x-python",
   "name": "python",
   "nbconvert_exporter": "python",
   "pygments_lexer": "ipython3",
   "version": "3.11.5"
  }
 },
 "nbformat": 4,
 "nbformat_minor": 5
}
