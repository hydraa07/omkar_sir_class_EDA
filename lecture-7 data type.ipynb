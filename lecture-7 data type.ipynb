{
 "cells": [
  {
   "cell_type": "markdown",
   "id": "104bd8e5",
   "metadata": {},
   "source": [
    "- there is a 6 categories of data type\n",
    "- number type  \n",
    "     - int\n",
    "     - float\n",
    "     - complex\n",
    "- boolean \n",
    "     - Ture\n",
    "     - False"
   ]
  },
  {
   "cell_type": "code",
   "execution_count": 5,
   "id": "e5b7b3c3",
   "metadata": {},
   "outputs": [
    {
     "name": "stdout",
     "output_type": "stream",
     "text": [
      "<class 'int'>\n",
      "<class 'float'>\n",
      "<class 'str'>\n",
      "<class 'bool'>\n"
     ]
    }
   ],
   "source": [
    "a=10\n",
    "b = 10.0\n",
    "c = \"Ravindra\"\n",
    "d = True\n",
    "print(type(a))\n",
    "print(type(b))\n",
    "print(type(c))\n",
    "print(type(d))"
   ]
  },
  {
   "cell_type": "markdown",
   "id": "d05fdf11",
   "metadata": {},
   "source": [
    "# sys.getsizeof(variable) a package to difine the size of the data types"
   ]
  },
  {
   "cell_type": "code",
   "execution_count": 6,
   "id": "24f4a92e",
   "metadata": {},
   "outputs": [],
   "source": [
    "# sys.getsizeof(variable) a package to difine the size of the data types\n",
    "import sys"
   ]
  },
  {
   "cell_type": "code",
   "execution_count": 10,
   "id": "b2db7301",
   "metadata": {},
   "outputs": [
    {
     "name": "stdout",
     "output_type": "stream",
     "text": [
      "<class 'int'>\n",
      "<class 'float'>\n",
      "<class 'str'>\n",
      "<class 'bool'>\n",
      "28\n",
      "24\n",
      "57\n",
      "28\n"
     ]
    }
   ],
   "source": [
    "a=10\n",
    "b = 10.0\n",
    "c = \"Ravindra\"\n",
    "d = True\n",
    "print(type(a))\n",
    "print(type(b))\n",
    "print(type(c))\n",
    "print(type(d))\n",
    "\n",
    "print(sys.getsizeof(a))\n",
    "print(sys.getsizeof(b))\n",
    "print(sys.getsizeof(c))\n",
    "print(sys.getsizeof(d))"
   ]
  },
  {
   "cell_type": "markdown",
   "id": "9a052d69",
   "metadata": {},
   "source": [
    "# binary to decimal"
   ]
  },
  {
   "cell_type": "code",
   "execution_count": 4,
   "id": "a887ff7d",
   "metadata": {},
   "outputs": [
    {
     "data": {
      "text/plain": [
       "5"
      ]
     },
     "execution_count": 4,
     "metadata": {},
     "output_type": "execute_result"
    }
   ],
   "source": [
    "a = 0b101\n",
    "a"
   ]
  },
  {
   "cell_type": "code",
   "execution_count": 5,
   "id": "5daebd30",
   "metadata": {},
   "outputs": [
    {
     "data": {
      "text/plain": [
       "26"
      ]
     },
     "execution_count": 5,
     "metadata": {},
     "output_type": "execute_result"
    }
   ],
   "source": [
    "a=0b1011  #  11\n",
    "b=0b1111  # +15\n",
    " a+b      #  26"
   ]
  },
  {
   "cell_type": "markdown",
   "id": "806330a3",
   "metadata": {},
   "source": [
    "# octol to decimal"
   ]
  },
  {
   "cell_type": "code",
   "execution_count": 6,
   "id": "4db77dc5",
   "metadata": {},
   "outputs": [
    {
     "data": {
      "text/plain": [
       "9840"
      ]
     },
     "execution_count": 6,
     "metadata": {},
     "output_type": "execute_result"
    }
   ],
   "source": [
    "a=0o23160\n",
    "a"
   ]
  },
  {
   "cell_type": "code",
   "execution_count": 7,
   "id": "252b10ea",
   "metadata": {},
   "outputs": [
    {
     "data": {
      "text/plain": [
       "29"
      ]
     },
     "execution_count": 7,
     "metadata": {},
     "output_type": "execute_result"
    }
   ],
   "source": [
    "a=0o12\n",
    "b=0o23\n",
    "a+b"
   ]
  },
  {
   "cell_type": "markdown",
   "id": "45f314b1",
   "metadata": {},
   "source": [
    "# hexadecimal to decimal"
   ]
  },
  {
   "cell_type": "code",
   "execution_count": 8,
   "id": "0f75e6e2",
   "metadata": {},
   "outputs": [
    {
     "data": {
      "text/plain": [
       "41289"
      ]
     },
     "execution_count": 8,
     "metadata": {},
     "output_type": "execute_result"
    }
   ],
   "source": [
    "a=0xA149\n",
    "a"
   ]
  },
  {
   "cell_type": "markdown",
   "id": "a3e7759a",
   "metadata": {},
   "source": [
    "# convertion"
   ]
  },
  {
   "cell_type": "code",
   "execution_count": 9,
   "id": "5479185c",
   "metadata": {},
   "outputs": [
    {
     "name": "stdout",
     "output_type": "stream",
     "text": [
      "0b1111000\n",
      "0o170\n",
      "0x78\n"
     ]
    }
   ],
   "source": [
    "a = 120\n",
    "b = bin(a)  # decimal to binary\n",
    "c = oct(a)  # decimal to octol\n",
    "d = hex(a)  #decimal to hexadecimal\n",
    "\n",
    "print(b)\n",
    "print(c)\n",
    "print(d)"
   ]
  },
  {
   "cell_type": "code",
   "execution_count": 11,
   "id": "1b1d472a",
   "metadata": {},
   "outputs": [
    {
     "data": {
      "text/plain": [
       "350.0"
      ]
     },
     "execution_count": 11,
     "metadata": {},
     "output_type": "execute_result"
    }
   ],
   "source": [
    "a= 3.5e2\n",
    "a"
   ]
  },
  {
   "cell_type": "code",
   "execution_count": null,
   "id": "2eb813e3",
   "metadata": {},
   "outputs": [],
   "source": []
  },
  {
   "cell_type": "code",
   "execution_count": null,
   "id": "c8c1f391",
   "metadata": {},
   "outputs": [],
   "source": []
  },
  {
   "cell_type": "code",
   "execution_count": null,
   "id": "cf2dfbe2",
   "metadata": {},
   "outputs": [],
   "source": []
  },
  {
   "cell_type": "code",
   "execution_count": null,
   "id": "4151a504",
   "metadata": {},
   "outputs": [],
   "source": []
  },
  {
   "cell_type": "code",
   "execution_count": null,
   "id": "40bbfedb",
   "metadata": {},
   "outputs": [],
   "source": []
  },
  {
   "cell_type": "code",
   "execution_count": null,
   "id": "5af90273",
   "metadata": {},
   "outputs": [],
   "source": []
  },
  {
   "cell_type": "code",
   "execution_count": null,
   "id": "9b2226b4",
   "metadata": {},
   "outputs": [],
   "source": []
  }
 ],
 "metadata": {
  "kernelspec": {
   "display_name": "Python 3 (ipykernel)",
   "language": "python",
   "name": "python3"
  },
  "language_info": {
   "codemirror_mode": {
    "name": "ipython",
    "version": 3
   },
   "file_extension": ".py",
   "mimetype": "text/x-python",
   "name": "python",
   "nbconvert_exporter": "python",
   "pygments_lexer": "ipython3",
   "version": "3.11.5"
  }
 },
 "nbformat": 4,
 "nbformat_minor": 5
}
