{
 "cells": [
  {
   "cell_type": "code",
   "execution_count": 2,
   "id": "39ad132f",
   "metadata": {},
   "outputs": [
    {
     "name": "stdout",
     "output_type": "stream",
     "text": [
      "140723025515592\n",
      "2900112810480\n"
     ]
    }
   ],
   "source": [
    "# id() object is return the adress of the given variable\n",
    "\n",
    "a = 10\n",
    "print(id(a))\n",
    "b = \"ravindra\"\n",
    "print(id(b))"
   ]
  },
  {
   "cell_type": "markdown",
   "id": "279ee985",
   "metadata": {},
   "source": [
    "# is opretor"
   ]
  },
  {
   "cell_type": "code",
   "execution_count": 3,
   "id": "95f5063d",
   "metadata": {},
   "outputs": [
    {
     "name": "stdout",
     "output_type": "stream",
     "text": [
      "140723025515592\n",
      "2900112810480\n",
      "False\n",
      "True\n",
      "False\n"
     ]
    }
   ],
   "source": [
    "# is opretor address ko compear karta hai\n",
    "a = 10\n",
    "print(id(a))\n",
    "b = \"ravindra\"\n",
    "print(id(b))\n",
    "c =10;\n",
    "print(a is b)\n",
    "print(a is c) # a and c var ka address same hai kyu ki object immutable hote hai\n",
    "print(b is c)"
   ]
  },
  {
   "cell_type": "markdown",
   "id": "183596dd",
   "metadata": {},
   "source": [
    "# constant nhi hote hai pyhton me \n",
    "# all capital letters me likh do change nhi hoga "
   ]
  },
  {
   "cell_type": "code",
   "execution_count": 6,
   "id": "3cd50ff8",
   "metadata": {},
   "outputs": [
    {
     "name": "stdout",
     "output_type": "stream",
     "text": [
      "3.14\n",
      "55\n"
     ]
    }
   ],
   "source": [
    "# bhaiyo mene galt pd liya hai kahi se capital latters me bhi likhne per change hora hai \n",
    "PI = 3.14\n",
    "print(PI)\n",
    "PI = 55\n",
    "print(PI)"
   ]
  },
  {
   "cell_type": "code",
   "execution_count": 8,
   "id": "68575a80",
   "metadata": {},
   "outputs": [
    {
     "name": "stdout",
     "output_type": "stream",
     "text": [
      "29,Ravindra \n"
     ]
    }
   ],
   "source": [
    "# some important point of print() function\n",
    "# print() have \"sepretor \"\n",
    "# by default sepretor have space = \" \"\n",
    "\n",
    "a = 29\n",
    "b =\"Ravindra \"\n",
    "print(a , b , sep=\",\")"
   ]
  },
  {
   "cell_type": "code",
   "execution_count": 8,
   "id": "a22e7a9c",
   "metadata": {},
   "outputs": [
    {
     "name": "stdout",
     "output_type": "stream",
     "text": [
      "140707219674184\n"
     ]
    }
   ],
   "source": []
  },
  {
   "cell_type": "code",
   "execution_count": null,
   "id": "55b8d9bf",
   "metadata": {},
   "outputs": [],
   "source": []
  },
  {
   "cell_type": "code",
   "execution_count": null,
   "id": "17884451",
   "metadata": {},
   "outputs": [],
   "source": []
  },
  {
   "cell_type": "code",
   "execution_count": null,
   "id": "2c10323c",
   "metadata": {},
   "outputs": [],
   "source": []
  },
  {
   "cell_type": "code",
   "execution_count": null,
   "id": "05e82b95",
   "metadata": {},
   "outputs": [],
   "source": []
  },
  {
   "cell_type": "code",
   "execution_count": null,
   "id": "c40f4182",
   "metadata": {},
   "outputs": [],
   "source": []
  }
 ],
 "metadata": {
  "kernelspec": {
   "display_name": "Python 3 (ipykernel)",
   "language": "python",
   "name": "python3"
  },
  "language_info": {
   "codemirror_mode": {
    "name": "ipython",
    "version": 3
   },
   "file_extension": ".py",
   "mimetype": "text/x-python",
   "name": "python",
   "nbconvert_exporter": "python",
   "pygments_lexer": "ipython3",
   "version": "3.11.5"
  }
 },
 "nbformat": 4,
 "nbformat_minor": 5
}
